{
 "cells": [
  {
   "cell_type": "markdown",
   "metadata": {},
   "source": [
    " ## Import useful modules ⬇️⬇️ and Global params"
   ]
  },
  {
   "cell_type": "code",
   "execution_count": 1,
   "metadata": {},
   "outputs": [],
   "source": [
    "!pip install import-ipynb -q"
   ]
  },
  {
   "cell_type": "code",
   "execution_count": 2,
   "metadata": {},
   "outputs": [],
   "source": [
    "!pip install ipynb --upgrade -q"
   ]
  },
  {
   "cell_type": "code",
   "execution_count": 3,
   "metadata": {},
   "outputs": [],
   "source": [
    "!pip install plotly -q"
   ]
  },
  {
   "cell_type": "code",
   "execution_count": 4,
   "metadata": {},
   "outputs": [],
   "source": [
    "!pip install -U kaleido -q"
   ]
  },
  {
   "cell_type": "code",
   "execution_count": 5,
   "metadata": {},
   "outputs": [],
   "source": [
    "!pip install mlxtend -q"
   ]
  },
  {
   "cell_type": "code",
   "execution_count": 6,
   "metadata": {},
   "outputs": [],
   "source": [
    "# **************************************************************************************************"
   ]
  },
  {
   "cell_type": "code",
   "execution_count": 7,
   "metadata": {},
   "outputs": [],
   "source": [
    "# Generic librairies \n",
    "import os\n",
    "\n",
    "import pandas as pd\n",
    "pd.options.display.max_columns=None\n",
    "import numpy as np\n",
    "from datetime import datetime\n",
    "\n",
    "import warnings\n",
    "warnings.filterwarnings('ignore')\n",
    "\n",
    "# Visualization librairies \n",
    "from plotly.subplots import make_subplots\n",
    "import plotly.graph_objects as go\n",
    "import plotly.express as px\n",
    "import plotly.io as pio\n",
    "pio.renderers.default = \"iframe\" \n",
    "\n",
    "import seaborn as sns\n",
    "import matplotlib.pyplot as plt\n",
    "\n",
    "# Machine learning librairies\n",
    "# split\n",
    "from sklearn.model_selection import train_test_split\n",
    "\n",
    "# Preprocessing\n",
    "from sklearn.pipeline import Pipeline\n",
    "from sklearn.impute import SimpleImputer\n",
    "from sklearn.preprocessing import  OneHotEncoder, StandardScaler\n",
    "from sklearn.compose import ColumnTransformer\n",
    "\n",
    "# Regressors\n",
    "from sklearn.dummy import DummyRegressor\n",
    "from sklearn.linear_model import LinearRegression, Ridge, Lasso\n",
    "\n",
    "# model selection\n",
    "from sklearn.model_selection import cross_val_score, GridSearchCV\n",
    "\n",
    "# feature selection\n",
    "from sklearn.feature_selection import f_regression\n",
    "\n",
    "# score metrics\n",
    "from sklearn.metrics import r2_score, mean_squared_error, mean_absolute_error\n",
    "\n",
    "\n",
    "# predefined modules\n",
    "import import_ipynb\n",
    "from ipynb.fs.full.MyFunctions import MyFunct, Status\n",
    "\n",
    "\n",
    "# Global parameters \n",
    "'''\n",
    "import sys\n",
    "sys.path.append(\".\")\n",
    "'''\n",
    "\n",
    "filepath = 'src/Walmart_Store_sales.csv'\n",
    "\n",
    "if not os.path.exists(\"images\"):\n",
    "    os.mkdir(\"images\")\n",
    "\n",
    "if not os.path.exists(\"output\"):\n",
    "    os.mkdir(\"output\")"
   ]
  },
  {
   "cell_type": "code",
   "execution_count": 8,
   "metadata": {},
   "outputs": [],
   "source": [
    "with open(\"output/out.txt\", \"a\") as f:\n",
    "    f.write(f'{os.listdir()}\\n')"
   ]
  },
  {
   "cell_type": "markdown",
   "metadata": {},
   "source": [
    " ## File reading"
   ]
  },
  {
   "cell_type": "code",
   "execution_count": 9,
   "metadata": {
    "tags": []
   },
   "outputs": [
    {
     "name": "stdout",
     "output_type": "stream",
     "text": [
      "Loading dataset...\n",
      "...Done.\n",
      "\n"
     ]
    }
   ],
   "source": [
    "print(\"Loading dataset...\")\n",
    "dataset = pd.read_csv(filepath)\n",
    "print(\"...Done.\")\n",
    "print()"
   ]
  },
  {
   "cell_type": "markdown",
   "metadata": {},
   "source": [
    "# Part 1 : EDA and data preprocessing"
   ]
  },
  {
   "cell_type": "code",
   "execution_count": 10,
   "metadata": {
    "tags": []
   },
   "outputs": [
    {
     "name": "stdout",
     "output_type": "stream",
     "text": [
      "Shape : (150, 8)\n",
      "\n",
      "data types : \n",
      "Store           float64\n",
      "Date             object\n",
      "Weekly_Sales    float64\n",
      "Holiday_Flag    float64\n",
      "Temperature     float64\n",
      "Fuel_Price      float64\n",
      "CPI             float64\n",
      "Unemployment    float64\n",
      "dtype: object\n",
      "\n",
      "Display of dataset: \n"
     ]
    },
    {
     "data": {
      "text/html": [
       "<div>\n",
       "<style scoped>\n",
       "    .dataframe tbody tr th:only-of-type {\n",
       "        vertical-align: middle;\n",
       "    }\n",
       "\n",
       "    .dataframe tbody tr th {\n",
       "        vertical-align: top;\n",
       "    }\n",
       "\n",
       "    .dataframe thead th {\n",
       "        text-align: right;\n",
       "    }\n",
       "</style>\n",
       "<table border=\"1\" class=\"dataframe\">\n",
       "  <thead>\n",
       "    <tr style=\"text-align: right;\">\n",
       "      <th></th>\n",
       "      <th>Store</th>\n",
       "      <th>Date</th>\n",
       "      <th>Weekly_Sales</th>\n",
       "      <th>Holiday_Flag</th>\n",
       "      <th>Temperature</th>\n",
       "      <th>Fuel_Price</th>\n",
       "      <th>CPI</th>\n",
       "      <th>Unemployment</th>\n",
       "    </tr>\n",
       "  </thead>\n",
       "  <tbody>\n",
       "    <tr>\n",
       "      <th>0</th>\n",
       "      <td>6.0</td>\n",
       "      <td>18-02-2011</td>\n",
       "      <td>1572117.54</td>\n",
       "      <td>NaN</td>\n",
       "      <td>59.61</td>\n",
       "      <td>3.045</td>\n",
       "      <td>214.777523</td>\n",
       "      <td>6.858</td>\n",
       "    </tr>\n",
       "    <tr>\n",
       "      <th>1</th>\n",
       "      <td>13.0</td>\n",
       "      <td>25-03-2011</td>\n",
       "      <td>1807545.43</td>\n",
       "      <td>0.0</td>\n",
       "      <td>42.38</td>\n",
       "      <td>3.435</td>\n",
       "      <td>128.616064</td>\n",
       "      <td>7.470</td>\n",
       "    </tr>\n",
       "    <tr>\n",
       "      <th>2</th>\n",
       "      <td>17.0</td>\n",
       "      <td>27-07-2012</td>\n",
       "      <td>NaN</td>\n",
       "      <td>0.0</td>\n",
       "      <td>NaN</td>\n",
       "      <td>NaN</td>\n",
       "      <td>130.719581</td>\n",
       "      <td>5.936</td>\n",
       "    </tr>\n",
       "    <tr>\n",
       "      <th>3</th>\n",
       "      <td>11.0</td>\n",
       "      <td>NaN</td>\n",
       "      <td>1244390.03</td>\n",
       "      <td>0.0</td>\n",
       "      <td>84.57</td>\n",
       "      <td>NaN</td>\n",
       "      <td>214.556497</td>\n",
       "      <td>7.346</td>\n",
       "    </tr>\n",
       "    <tr>\n",
       "      <th>4</th>\n",
       "      <td>6.0</td>\n",
       "      <td>28-05-2010</td>\n",
       "      <td>1644470.66</td>\n",
       "      <td>0.0</td>\n",
       "      <td>78.89</td>\n",
       "      <td>2.759</td>\n",
       "      <td>212.412888</td>\n",
       "      <td>7.092</td>\n",
       "    </tr>\n",
       "  </tbody>\n",
       "</table>\n",
       "</div>"
      ],
      "text/plain": [
       "   Store        Date  Weekly_Sales  Holiday_Flag  Temperature  Fuel_Price  \\\n",
       "0    6.0  18-02-2011    1572117.54           NaN        59.61       3.045   \n",
       "1   13.0  25-03-2011    1807545.43           0.0        42.38       3.435   \n",
       "2   17.0  27-07-2012           NaN           0.0          NaN         NaN   \n",
       "3   11.0         NaN    1244390.03           0.0        84.57         NaN   \n",
       "4    6.0  28-05-2010    1644470.66           0.0        78.89       2.759   \n",
       "\n",
       "          CPI  Unemployment  \n",
       "0  214.777523         6.858  \n",
       "1  128.616064         7.470  \n",
       "2  130.719581         5.936  \n",
       "3  214.556497         7.346  \n",
       "4  212.412888         7.092  "
      ]
     },
     "metadata": {},
     "output_type": "display_data"
    },
    {
     "name": "stdout",
     "output_type": "stream",
     "text": [
      "\n",
      "Basics statistics: \n"
     ]
    },
    {
     "data": {
      "text/html": [
       "<div>\n",
       "<style scoped>\n",
       "    .dataframe tbody tr th:only-of-type {\n",
       "        vertical-align: middle;\n",
       "    }\n",
       "\n",
       "    .dataframe tbody tr th {\n",
       "        vertical-align: top;\n",
       "    }\n",
       "\n",
       "    .dataframe thead th {\n",
       "        text-align: right;\n",
       "    }\n",
       "</style>\n",
       "<table border=\"1\" class=\"dataframe\">\n",
       "  <thead>\n",
       "    <tr style=\"text-align: right;\">\n",
       "      <th></th>\n",
       "      <th>Store</th>\n",
       "      <th>Date</th>\n",
       "      <th>Weekly_Sales</th>\n",
       "      <th>Holiday_Flag</th>\n",
       "      <th>Temperature</th>\n",
       "      <th>Fuel_Price</th>\n",
       "      <th>CPI</th>\n",
       "      <th>Unemployment</th>\n",
       "    </tr>\n",
       "  </thead>\n",
       "  <tbody>\n",
       "    <tr>\n",
       "      <th>count</th>\n",
       "      <td>150.000000</td>\n",
       "      <td>132</td>\n",
       "      <td>1.360000e+02</td>\n",
       "      <td>138.000000</td>\n",
       "      <td>132.000000</td>\n",
       "      <td>136.000000</td>\n",
       "      <td>138.000000</td>\n",
       "      <td>135.000000</td>\n",
       "    </tr>\n",
       "    <tr>\n",
       "      <th>unique</th>\n",
       "      <td>NaN</td>\n",
       "      <td>85</td>\n",
       "      <td>NaN</td>\n",
       "      <td>NaN</td>\n",
       "      <td>NaN</td>\n",
       "      <td>NaN</td>\n",
       "      <td>NaN</td>\n",
       "      <td>NaN</td>\n",
       "    </tr>\n",
       "    <tr>\n",
       "      <th>top</th>\n",
       "      <td>NaN</td>\n",
       "      <td>19-10-2012</td>\n",
       "      <td>NaN</td>\n",
       "      <td>NaN</td>\n",
       "      <td>NaN</td>\n",
       "      <td>NaN</td>\n",
       "      <td>NaN</td>\n",
       "      <td>NaN</td>\n",
       "    </tr>\n",
       "    <tr>\n",
       "      <th>freq</th>\n",
       "      <td>NaN</td>\n",
       "      <td>4</td>\n",
       "      <td>NaN</td>\n",
       "      <td>NaN</td>\n",
       "      <td>NaN</td>\n",
       "      <td>NaN</td>\n",
       "      <td>NaN</td>\n",
       "      <td>NaN</td>\n",
       "    </tr>\n",
       "    <tr>\n",
       "      <th>mean</th>\n",
       "      <td>9.866667</td>\n",
       "      <td>NaN</td>\n",
       "      <td>1.249536e+06</td>\n",
       "      <td>0.079710</td>\n",
       "      <td>61.398106</td>\n",
       "      <td>3.320853</td>\n",
       "      <td>179.898509</td>\n",
       "      <td>7.598430</td>\n",
       "    </tr>\n",
       "    <tr>\n",
       "      <th>std</th>\n",
       "      <td>6.231191</td>\n",
       "      <td>NaN</td>\n",
       "      <td>6.474630e+05</td>\n",
       "      <td>0.271831</td>\n",
       "      <td>18.378901</td>\n",
       "      <td>0.478149</td>\n",
       "      <td>40.274956</td>\n",
       "      <td>1.577173</td>\n",
       "    </tr>\n",
       "    <tr>\n",
       "      <th>min</th>\n",
       "      <td>1.000000</td>\n",
       "      <td>NaN</td>\n",
       "      <td>2.689290e+05</td>\n",
       "      <td>0.000000</td>\n",
       "      <td>18.790000</td>\n",
       "      <td>2.514000</td>\n",
       "      <td>126.111903</td>\n",
       "      <td>5.143000</td>\n",
       "    </tr>\n",
       "    <tr>\n",
       "      <th>25%</th>\n",
       "      <td>4.000000</td>\n",
       "      <td>NaN</td>\n",
       "      <td>6.050757e+05</td>\n",
       "      <td>0.000000</td>\n",
       "      <td>45.587500</td>\n",
       "      <td>2.852250</td>\n",
       "      <td>131.970831</td>\n",
       "      <td>6.597500</td>\n",
       "    </tr>\n",
       "    <tr>\n",
       "      <th>50%</th>\n",
       "      <td>9.000000</td>\n",
       "      <td>NaN</td>\n",
       "      <td>1.261424e+06</td>\n",
       "      <td>0.000000</td>\n",
       "      <td>62.985000</td>\n",
       "      <td>3.451000</td>\n",
       "      <td>197.908893</td>\n",
       "      <td>7.470000</td>\n",
       "    </tr>\n",
       "    <tr>\n",
       "      <th>75%</th>\n",
       "      <td>15.750000</td>\n",
       "      <td>NaN</td>\n",
       "      <td>1.806386e+06</td>\n",
       "      <td>0.000000</td>\n",
       "      <td>76.345000</td>\n",
       "      <td>3.706250</td>\n",
       "      <td>214.934616</td>\n",
       "      <td>8.150000</td>\n",
       "    </tr>\n",
       "    <tr>\n",
       "      <th>max</th>\n",
       "      <td>20.000000</td>\n",
       "      <td>NaN</td>\n",
       "      <td>2.771397e+06</td>\n",
       "      <td>1.000000</td>\n",
       "      <td>91.650000</td>\n",
       "      <td>4.193000</td>\n",
       "      <td>226.968844</td>\n",
       "      <td>14.313000</td>\n",
       "    </tr>\n",
       "  </tbody>\n",
       "</table>\n",
       "</div>"
      ],
      "text/plain": [
       "             Store        Date  Weekly_Sales  Holiday_Flag  Temperature  \\\n",
       "count   150.000000         132  1.360000e+02    138.000000   132.000000   \n",
       "unique         NaN          85           NaN           NaN          NaN   \n",
       "top            NaN  19-10-2012           NaN           NaN          NaN   \n",
       "freq           NaN           4           NaN           NaN          NaN   \n",
       "mean      9.866667         NaN  1.249536e+06      0.079710    61.398106   \n",
       "std       6.231191         NaN  6.474630e+05      0.271831    18.378901   \n",
       "min       1.000000         NaN  2.689290e+05      0.000000    18.790000   \n",
       "25%       4.000000         NaN  6.050757e+05      0.000000    45.587500   \n",
       "50%       9.000000         NaN  1.261424e+06      0.000000    62.985000   \n",
       "75%      15.750000         NaN  1.806386e+06      0.000000    76.345000   \n",
       "max      20.000000         NaN  2.771397e+06      1.000000    91.650000   \n",
       "\n",
       "        Fuel_Price         CPI  Unemployment  \n",
       "count   136.000000  138.000000    135.000000  \n",
       "unique         NaN         NaN           NaN  \n",
       "top            NaN         NaN           NaN  \n",
       "freq           NaN         NaN           NaN  \n",
       "mean      3.320853  179.898509      7.598430  \n",
       "std       0.478149   40.274956      1.577173  \n",
       "min       2.514000  126.111903      5.143000  \n",
       "25%       2.852250  131.970831      6.597500  \n",
       "50%       3.451000  197.908893      7.470000  \n",
       "75%       3.706250  214.934616      8.150000  \n",
       "max       4.193000  226.968844     14.313000  "
      ]
     },
     "metadata": {},
     "output_type": "display_data"
    },
    {
     "name": "stdout",
     "output_type": "stream",
     "text": [
      "\n",
      "Distinct values: \n"
     ]
    },
    {
     "data": {
      "text/plain": [
       "Store            20\n",
       "Date             86\n",
       "Weekly_Sales    137\n",
       "Holiday_Flag      3\n",
       "Temperature     131\n",
       "Fuel_Price      121\n",
       "CPI             136\n",
       "Unemployment    105\n",
       "dtype: int64"
      ]
     },
     "metadata": {},
     "output_type": "display_data"
    }
   ],
   "source": [
    "MyFunct.explore(dataset)"
   ]
  },
  {
   "cell_type": "markdown",
   "metadata": {},
   "source": [
    "## Unique "
   ]
  },
  {
   "cell_type": "code",
   "execution_count": 11,
   "metadata": {},
   "outputs": [
    {
     "name": "stdout",
     "output_type": "stream",
     "text": [
      "unique values of Holiday_Flag:\n"
     ]
    },
    {
     "data": {
      "text/plain": [
       "0.0    127\n",
       "NaN     12\n",
       "1.0     11\n",
       "Name: Holiday_Flag, dtype: int64"
      ]
     },
     "metadata": {},
     "output_type": "display_data"
    },
    {
     "name": "stdout",
     "output_type": "stream",
     "text": [
      "unique values of Store:\n"
     ]
    },
    {
     "data": {
      "text/plain": [
       "3.0     15\n",
       "1.0     11\n",
       "18.0    10\n",
       "13.0     9\n",
       "19.0     9\n",
       "5.0      9\n",
       "14.0     9\n",
       "8.0      8\n",
       "17.0     8\n",
       "2.0      8\n",
       "7.0      8\n",
       "20.0     7\n",
       "4.0      7\n",
       "6.0      7\n",
       "12.0     5\n",
       "10.0     5\n",
       "15.0     4\n",
       "9.0      4\n",
       "16.0     4\n",
       "11.0     3\n",
       "Name: Store, dtype: int64"
      ]
     },
     "metadata": {},
     "output_type": "display_data"
    },
    {
     "name": "stdout",
     "output_type": "stream",
     "text": [
      "unique values of Date:\n"
     ]
    },
    {
     "data": {
      "text/plain": [
       "NaN           18\n",
       "07-01-2011     4\n",
       "19-10-2012     4\n",
       "30-07-2010     3\n",
       "25-03-2011     3\n",
       "              ..\n",
       "24-06-2011     1\n",
       "01-10-2010     1\n",
       "18-05-2012     1\n",
       "06-01-2012     1\n",
       "19-11-2010     1\n",
       "Name: Date, Length: 86, dtype: int64"
      ]
     },
     "metadata": {},
     "output_type": "display_data"
    }
   ],
   "source": [
    "Cols = ['Holiday_Flag', 'Store', 'Date']\n",
    "MyFunct.unique_count(dataset, Cols)"
   ]
  },
  {
   "cell_type": "markdown",
   "metadata": {},
   "source": [
    "## Missing "
   ]
  },
  {
   "cell_type": "code",
   "execution_count": 12,
   "metadata": {},
   "outputs": [
    {
     "name": "stdout",
     "output_type": "stream",
     "text": [
      "Missing values over 150 observations: \n"
     ]
    },
    {
     "data": {
      "text/html": [
       "<div>\n",
       "<style scoped>\n",
       "    .dataframe tbody tr th:only-of-type {\n",
       "        vertical-align: middle;\n",
       "    }\n",
       "\n",
       "    .dataframe tbody tr th {\n",
       "        vertical-align: top;\n",
       "    }\n",
       "\n",
       "    .dataframe thead th {\n",
       "        text-align: right;\n",
       "    }\n",
       "</style>\n",
       "<table border=\"1\" class=\"dataframe\">\n",
       "  <thead>\n",
       "    <tr style=\"text-align: right;\">\n",
       "      <th></th>\n",
       "      <th>Variable</th>\n",
       "      <th>n_missing</th>\n",
       "      <th>p_missing</th>\n",
       "    </tr>\n",
       "  </thead>\n",
       "  <tbody>\n",
       "    <tr>\n",
       "      <th>0</th>\n",
       "      <td>Store</td>\n",
       "      <td>0</td>\n",
       "      <td>0.00</td>\n",
       "    </tr>\n",
       "    <tr>\n",
       "      <th>3</th>\n",
       "      <td>Holiday_Flag</td>\n",
       "      <td>12</td>\n",
       "      <td>8.00</td>\n",
       "    </tr>\n",
       "    <tr>\n",
       "      <th>6</th>\n",
       "      <td>CPI</td>\n",
       "      <td>12</td>\n",
       "      <td>8.00</td>\n",
       "    </tr>\n",
       "    <tr>\n",
       "      <th>2</th>\n",
       "      <td>Weekly_Sales</td>\n",
       "      <td>14</td>\n",
       "      <td>9.33</td>\n",
       "    </tr>\n",
       "    <tr>\n",
       "      <th>5</th>\n",
       "      <td>Fuel_Price</td>\n",
       "      <td>14</td>\n",
       "      <td>9.33</td>\n",
       "    </tr>\n",
       "    <tr>\n",
       "      <th>7</th>\n",
       "      <td>Unemployment</td>\n",
       "      <td>15</td>\n",
       "      <td>10.00</td>\n",
       "    </tr>\n",
       "    <tr>\n",
       "      <th>1</th>\n",
       "      <td>Date</td>\n",
       "      <td>18</td>\n",
       "      <td>12.00</td>\n",
       "    </tr>\n",
       "    <tr>\n",
       "      <th>4</th>\n",
       "      <td>Temperature</td>\n",
       "      <td>18</td>\n",
       "      <td>12.00</td>\n",
       "    </tr>\n",
       "  </tbody>\n",
       "</table>\n",
       "</div>"
      ],
      "text/plain": [
       "       Variable  n_missing  p_missing\n",
       "0         Store          0       0.00\n",
       "3  Holiday_Flag         12       8.00\n",
       "6           CPI         12       8.00\n",
       "2  Weekly_Sales         14       9.33\n",
       "5    Fuel_Price         14       9.33\n",
       "7  Unemployment         15      10.00\n",
       "1          Date         18      12.00\n",
       "4   Temperature         18      12.00"
      ]
     },
     "execution_count": 12,
     "metadata": {},
     "output_type": "execute_result"
    }
   ],
   "source": [
    "print(\"Missing values over 150 observations: \")\n",
    "MyFunct.missing(dataset)"
   ]
  },
  {
   "cell_type": "markdown",
   "metadata": {},
   "source": [
    "## Duplicates "
   ]
  },
  {
   "cell_type": "code",
   "execution_count": 13,
   "metadata": {},
   "outputs": [
    {
     "name": "stdout",
     "output_type": "stream",
     "text": [
      "Duplicates over 150 observations: \n",
      "No duplicated rows found\n"
     ]
    }
   ],
   "source": [
    "print(\"Duplicates over 150 observations: \")\n",
    "MyFunct.duplicates_count(dataset)"
   ]
  },
  {
   "cell_type": "markdown",
   "metadata": {},
   "source": [
    "## Extract relevant data from Date variable"
   ]
  },
  {
   "cell_type": "code",
   "execution_count": 14,
   "metadata": {},
   "outputs": [
    {
     "data": {
      "text/html": [
       "<div>\n",
       "<style scoped>\n",
       "    .dataframe tbody tr th:only-of-type {\n",
       "        vertical-align: middle;\n",
       "    }\n",
       "\n",
       "    .dataframe tbody tr th {\n",
       "        vertical-align: top;\n",
       "    }\n",
       "\n",
       "    .dataframe thead th {\n",
       "        text-align: right;\n",
       "    }\n",
       "</style>\n",
       "<table border=\"1\" class=\"dataframe\">\n",
       "  <thead>\n",
       "    <tr style=\"text-align: right;\">\n",
       "      <th></th>\n",
       "      <th>Store</th>\n",
       "      <th>Date</th>\n",
       "      <th>Weekly_Sales</th>\n",
       "      <th>Holiday_Flag</th>\n",
       "      <th>Temperature</th>\n",
       "      <th>Fuel_Price</th>\n",
       "      <th>CPI</th>\n",
       "      <th>Unemployment</th>\n",
       "      <th>Year</th>\n",
       "      <th>Month</th>\n",
       "      <th>Week</th>\n",
       "      <th>Day</th>\n",
       "      <th>Weekday</th>\n",
       "    </tr>\n",
       "  </thead>\n",
       "  <tbody>\n",
       "    <tr>\n",
       "      <th>0</th>\n",
       "      <td>6.0</td>\n",
       "      <td>18-02-2011</td>\n",
       "      <td>1572117.54</td>\n",
       "      <td>NaN</td>\n",
       "      <td>59.61</td>\n",
       "      <td>3.045</td>\n",
       "      <td>214.777523</td>\n",
       "      <td>6.858</td>\n",
       "      <td>2011.0</td>\n",
       "      <td>2.0</td>\n",
       "      <td>7.0</td>\n",
       "      <td>18.0</td>\n",
       "      <td>4.0</td>\n",
       "    </tr>\n",
       "    <tr>\n",
       "      <th>1</th>\n",
       "      <td>13.0</td>\n",
       "      <td>25-03-2011</td>\n",
       "      <td>1807545.43</td>\n",
       "      <td>0.0</td>\n",
       "      <td>42.38</td>\n",
       "      <td>3.435</td>\n",
       "      <td>128.616064</td>\n",
       "      <td>7.470</td>\n",
       "      <td>2011.0</td>\n",
       "      <td>3.0</td>\n",
       "      <td>12.0</td>\n",
       "      <td>25.0</td>\n",
       "      <td>4.0</td>\n",
       "    </tr>\n",
       "    <tr>\n",
       "      <th>2</th>\n",
       "      <td>17.0</td>\n",
       "      <td>27-07-2012</td>\n",
       "      <td>NaN</td>\n",
       "      <td>0.0</td>\n",
       "      <td>NaN</td>\n",
       "      <td>NaN</td>\n",
       "      <td>130.719581</td>\n",
       "      <td>5.936</td>\n",
       "      <td>2012.0</td>\n",
       "      <td>7.0</td>\n",
       "      <td>30.0</td>\n",
       "      <td>27.0</td>\n",
       "      <td>4.0</td>\n",
       "    </tr>\n",
       "    <tr>\n",
       "      <th>3</th>\n",
       "      <td>11.0</td>\n",
       "      <td>NaN</td>\n",
       "      <td>1244390.03</td>\n",
       "      <td>0.0</td>\n",
       "      <td>84.57</td>\n",
       "      <td>NaN</td>\n",
       "      <td>214.556497</td>\n",
       "      <td>7.346</td>\n",
       "      <td>NaN</td>\n",
       "      <td>NaN</td>\n",
       "      <td>NaN</td>\n",
       "      <td>NaN</td>\n",
       "      <td>NaN</td>\n",
       "    </tr>\n",
       "    <tr>\n",
       "      <th>4</th>\n",
       "      <td>6.0</td>\n",
       "      <td>28-05-2010</td>\n",
       "      <td>1644470.66</td>\n",
       "      <td>0.0</td>\n",
       "      <td>78.89</td>\n",
       "      <td>2.759</td>\n",
       "      <td>212.412888</td>\n",
       "      <td>7.092</td>\n",
       "      <td>2010.0</td>\n",
       "      <td>5.0</td>\n",
       "      <td>21.0</td>\n",
       "      <td>28.0</td>\n",
       "      <td>4.0</td>\n",
       "    </tr>\n",
       "  </tbody>\n",
       "</table>\n",
       "</div>"
      ],
      "text/plain": [
       "   Store        Date  Weekly_Sales  Holiday_Flag  Temperature  Fuel_Price  \\\n",
       "0    6.0  18-02-2011    1572117.54           NaN        59.61       3.045   \n",
       "1   13.0  25-03-2011    1807545.43           0.0        42.38       3.435   \n",
       "2   17.0  27-07-2012           NaN           0.0          NaN         NaN   \n",
       "3   11.0         NaN    1244390.03           0.0        84.57         NaN   \n",
       "4    6.0  28-05-2010    1644470.66           0.0        78.89       2.759   \n",
       "\n",
       "          CPI  Unemployment    Year  Month  Week   Day  Weekday  \n",
       "0  214.777523         6.858  2011.0    2.0   7.0  18.0      4.0  \n",
       "1  128.616064         7.470  2011.0    3.0  12.0  25.0      4.0  \n",
       "2  130.719581         5.936  2012.0    7.0  30.0  27.0      4.0  \n",
       "3  214.556497         7.346     NaN    NaN   NaN   NaN      NaN  \n",
       "4  212.412888         7.092  2010.0    5.0  21.0  28.0      4.0  "
      ]
     },
     "execution_count": 14,
     "metadata": {},
     "output_type": "execute_result"
    }
   ],
   "source": [
    "# date = (year, month, week, day, day of the week)\n",
    "\n",
    "dataset['Year']    = dataset['Date'].apply(lambda d: MyFunct.get_year(str(d)))\n",
    "dataset['Month']   = dataset['Date'].apply(lambda d: MyFunct.get_month(str(d)))\n",
    "dataset['Week']    = dataset['Date'].apply(lambda d: MyFunct.get_week(str(d)))\n",
    "dataset['Day']     = dataset['Date'].apply(lambda d: MyFunct.get_day(str(d)))\n",
    "dataset['Weekday'] = dataset['Date'].apply(lambda d: MyFunct.get_weekday(str(d)))\n",
    "dataset.head()"
   ]
  },
  {
   "cell_type": "code",
   "execution_count": 15,
   "metadata": {},
   "outputs": [
    {
     "name": "stdout",
     "output_type": "stream",
     "text": [
      "unique values of Year:\n"
     ]
    },
    {
     "data": {
      "text/plain": [
       "2010.0    54\n",
       "2011.0    43\n",
       "2012.0    35\n",
       "NaN       18\n",
       "Name: Year, dtype: int64"
      ]
     },
     "metadata": {},
     "output_type": "display_data"
    },
    {
     "name": "stdout",
     "output_type": "stream",
     "text": [
      "unique values of Month:\n"
     ]
    },
    {
     "data": {
      "text/plain": [
       "NaN     18\n",
       "5.0     15\n",
       "7.0     15\n",
       "6.0     14\n",
       "2.0     12\n",
       "8.0     11\n",
       "3.0     11\n",
       "9.0     10\n",
       "4.0     10\n",
       "12.0    10\n",
       "10.0     9\n",
       "11.0     8\n",
       "1.0      7\n",
       "Name: Month, dtype: int64"
      ]
     },
     "metadata": {},
     "output_type": "display_data"
    },
    {
     "name": "stdout",
     "output_type": "stream",
     "text": [
      "unique values of Week:\n"
     ]
    },
    {
     "data": {
      "text/plain": [
       "NaN     18\n",
       "30.0     6\n",
       "21.0     6\n",
       "25.0     6\n",
       "1.0      5\n",
       "12.0     5\n",
       "38.0     4\n",
       "49.0     4\n",
       "19.0     4\n",
       "50.0     4\n",
       "34.0     4\n",
       "6.0      4\n",
       "45.0     4\n",
       "27.0     4\n",
       "7.0      4\n",
       "42.0     4\n",
       "15.0     3\n",
       "46.0     3\n",
       "41.0     3\n",
       "22.0     3\n",
       "11.0     3\n",
       "17.0     3\n",
       "18.0     3\n",
       "16.0     3\n",
       "24.0     3\n",
       "36.0     3\n",
       "32.0     3\n",
       "52.0     2\n",
       "23.0     2\n",
       "5.0      2\n",
       "29.0     2\n",
       "13.0     2\n",
       "37.0     2\n",
       "8.0      2\n",
       "26.0     2\n",
       "31.0     2\n",
       "33.0     2\n",
       "20.0     2\n",
       "47.0     1\n",
       "3.0      1\n",
       "9.0      1\n",
       "10.0     1\n",
       "39.0     1\n",
       "28.0     1\n",
       "2.0      1\n",
       "35.0     1\n",
       "40.0     1\n",
       "Name: Week, dtype: int64"
      ]
     },
     "metadata": {},
     "output_type": "display_data"
    },
    {
     "name": "stdout",
     "output_type": "stream",
     "text": [
      "unique values of Day:\n"
     ]
    },
    {
     "data": {
      "text/plain": [
       "NaN     18\n",
       "12.0    11\n",
       "19.0     8\n",
       "30.0     7\n",
       "25.0     7\n",
       "10.0     7\n",
       "18.0     7\n",
       "7.0      7\n",
       "16.0     6\n",
       "27.0     6\n",
       "26.0     6\n",
       "22.0     5\n",
       "6.0      5\n",
       "20.0     5\n",
       "17.0     4\n",
       "24.0     4\n",
       "13.0     4\n",
       "2.0      4\n",
       "15.0     3\n",
       "9.0      3\n",
       "28.0     3\n",
       "3.0      3\n",
       "11.0     3\n",
       "5.0      2\n",
       "1.0      2\n",
       "29.0     2\n",
       "14.0     2\n",
       "4.0      2\n",
       "23.0     2\n",
       "31.0     1\n",
       "8.0      1\n",
       "Name: Day, dtype: int64"
      ]
     },
     "metadata": {},
     "output_type": "display_data"
    },
    {
     "name": "stdout",
     "output_type": "stream",
     "text": [
      "unique values of Weekday:\n"
     ]
    },
    {
     "data": {
      "text/plain": [
       "4.0    132\n",
       "NaN     18\n",
       "Name: Weekday, dtype: int64"
      ]
     },
     "metadata": {},
     "output_type": "display_data"
    }
   ],
   "source": [
    "Cols = ['Year', 'Month', 'Week', 'Day', 'Weekday']\n",
    "MyFunct.unique_count(dataset, Cols)"
   ]
  },
  {
   "cell_type": "code",
   "execution_count": 16,
   "metadata": {},
   "outputs": [
    {
     "data": {
      "text/html": [
       "<div>\n",
       "<style scoped>\n",
       "    .dataframe tbody tr th:only-of-type {\n",
       "        vertical-align: middle;\n",
       "    }\n",
       "\n",
       "    .dataframe tbody tr th {\n",
       "        vertical-align: top;\n",
       "    }\n",
       "\n",
       "    .dataframe thead th {\n",
       "        text-align: right;\n",
       "    }\n",
       "</style>\n",
       "<table border=\"1\" class=\"dataframe\">\n",
       "  <thead>\n",
       "    <tr style=\"text-align: right;\">\n",
       "      <th></th>\n",
       "      <th>Date</th>\n",
       "      <th>Weekly_Sales</th>\n",
       "      <th>Week</th>\n",
       "    </tr>\n",
       "  </thead>\n",
       "  <tbody>\n",
       "    <tr>\n",
       "      <th>71</th>\n",
       "      <td>07-09-2012</td>\n",
       "      <td>NaN</td>\n",
       "      <td>36.0</td>\n",
       "    </tr>\n",
       "    <tr>\n",
       "      <th>122</th>\n",
       "      <td>07-09-2012</td>\n",
       "      <td>597876.55</td>\n",
       "      <td>36.0</td>\n",
       "    </tr>\n",
       "    <tr>\n",
       "      <th>32</th>\n",
       "      <td>10-02-2012</td>\n",
       "      <td>563460.77</td>\n",
       "      <td>6.0</td>\n",
       "    </tr>\n",
       "    <tr>\n",
       "      <th>33</th>\n",
       "      <td>10-02-2012</td>\n",
       "      <td>2077256.24</td>\n",
       "      <td>6.0</td>\n",
       "    </tr>\n",
       "    <tr>\n",
       "      <th>135</th>\n",
       "      <td>10-09-2010</td>\n",
       "      <td>903119.03</td>\n",
       "      <td>36.0</td>\n",
       "    </tr>\n",
       "    <tr>\n",
       "      <th>44</th>\n",
       "      <td>12-02-2010</td>\n",
       "      <td>1641957.44</td>\n",
       "      <td>6.0</td>\n",
       "    </tr>\n",
       "    <tr>\n",
       "      <th>107</th>\n",
       "      <td>12-02-2010</td>\n",
       "      <td>994801.40</td>\n",
       "      <td>6.0</td>\n",
       "    </tr>\n",
       "    <tr>\n",
       "      <th>114</th>\n",
       "      <td>26-11-2010</td>\n",
       "      <td>1757242.51</td>\n",
       "      <td>47.0</td>\n",
       "    </tr>\n",
       "    <tr>\n",
       "      <th>31</th>\n",
       "      <td>30-12-2011</td>\n",
       "      <td>NaN</td>\n",
       "      <td>52.0</td>\n",
       "    </tr>\n",
       "    <tr>\n",
       "      <th>110</th>\n",
       "      <td>31-12-2010</td>\n",
       "      <td>1799737.79</td>\n",
       "      <td>52.0</td>\n",
       "    </tr>\n",
       "    <tr>\n",
       "      <th>42</th>\n",
       "      <td>NaN</td>\n",
       "      <td>1661767.33</td>\n",
       "      <td>NaN</td>\n",
       "    </tr>\n",
       "  </tbody>\n",
       "</table>\n",
       "</div>"
      ],
      "text/plain": [
       "           Date  Weekly_Sales  Week\n",
       "71   07-09-2012           NaN  36.0\n",
       "122  07-09-2012     597876.55  36.0\n",
       "32   10-02-2012     563460.77   6.0\n",
       "33   10-02-2012    2077256.24   6.0\n",
       "135  10-09-2010     903119.03  36.0\n",
       "44   12-02-2010    1641957.44   6.0\n",
       "107  12-02-2010     994801.40   6.0\n",
       "114  26-11-2010    1757242.51  47.0\n",
       "31   30-12-2011           NaN  52.0\n",
       "110  31-12-2010    1799737.79  52.0\n",
       "42          NaN    1661767.33   NaN"
      ]
     },
     "execution_count": 16,
     "metadata": {},
     "output_type": "execute_result"
    }
   ],
   "source": [
    "mask = dataset['Holiday_Flag'] == 1\n",
    "dataset[mask][['Date', 'Weekly_Sales','Week']].sort_values(by='Date')"
   ]
  },
  {
   "cell_type": "code",
   "execution_count": 17,
   "metadata": {},
   "outputs": [
    {
     "data": {
      "text/plain": [
       "'\\ntitle = \\'Pair grid\\'\\nsns.pairplot(dataset)\\nplt.savefig(\"images/\"+title+\".png\")\\n'"
      ]
     },
     "execution_count": 17,
     "metadata": {},
     "output_type": "execute_result"
    }
   ],
   "source": [
    "'''\n",
    "title = 'Pair grid'\n",
    "sns.pairplot(dataset)\n",
    "plt.savefig(\"images/\"+title+\".png\")\n",
    "'''"
   ]
  },
  {
   "cell_type": "markdown",
   "metadata": {},
   "source": [
    "## Univariate Analysis\n",
    "Outliers / Anomalies detection (Box plots)"
   ]
  },
  {
   "cell_type": "code",
   "execution_count": 18,
   "metadata": {},
   "outputs": [
    {
     "data": {
      "text/html": [
       "<iframe\n",
       "    scrolling=\"no\"\n",
       "    width=\"100%\"\n",
       "    height=\"545px\"\n",
       "    src=\"iframe_figures/figure_18.html\"\n",
       "    frameborder=\"0\"\n",
       "    allowfullscreen\n",
       "></iframe>\n"
      ]
     },
     "metadata": {},
     "output_type": "display_data"
    }
   ],
   "source": [
    "title = 'Distribution of the different quantitative variables(1)'\n",
    "fig = make_subplots(rows=2, cols=3)\n",
    "\n",
    "fig.add_trace(MyFunct.my_box_plotter(dataset['Weekly_Sales']), row=1, col=1)\n",
    "fig.add_trace(MyFunct.my_box_plotter(dataset['CPI']), row=1, col=2)\n",
    "fig.add_trace(MyFunct.my_box_plotter(dataset['Fuel_Price']), row=1, col=3)\n",
    "\n",
    "fig.add_trace(MyFunct.my_box_plotter(dataset['Unemployment']), row=2, col=1)\n",
    "fig.add_trace(MyFunct.my_box_plotter(dataset['Temperature']), row=2, col=2)\n",
    "\n",
    "fig.update_layout(\n",
    "    title= title, title_x = 0.5,\n",
    "    showlegend=False\n",
    ")\n",
    "\n",
    "fig.to_image(format=\"png\", engine=\"kaleido\")\n",
    "if os.path.exists(\"images/\"+title+\".png\"):\n",
    "    os.remove(\"images/\"+title+\".png\")\n",
    "    \n",
    "fig.write_image(\"images/\"+title+\".png\")\n",
    "\n",
    "fig.show()"
   ]
  },
  {
   "cell_type": "code",
   "execution_count": 19,
   "metadata": {},
   "outputs": [
    {
     "data": {
      "text/html": [
       "<iframe\n",
       "    scrolling=\"no\"\n",
       "    width=\"100%\"\n",
       "    height=\"545px\"\n",
       "    src=\"iframe_figures/figure_19.html\"\n",
       "    frameborder=\"0\"\n",
       "    allowfullscreen\n",
       "></iframe>\n"
      ]
     },
     "metadata": {},
     "output_type": "display_data"
    }
   ],
   "source": [
    "title = 'Distribution of the different quantitative variables (2)'\n",
    "fig = make_subplots(rows=2, cols=3)\n",
    "\n",
    "fig.add_trace(MyFunct.my_hist_plotter(dataset['Weekly_Sales']), row=1, col=1)\n",
    "fig.add_trace(MyFunct.my_hist_plotter(dataset['CPI']), row=1, col=2)\n",
    "fig.add_trace(MyFunct.my_hist_plotter(dataset['Fuel_Price']), row=1, col=3)\n",
    "\n",
    "fig.add_trace(MyFunct.my_hist_plotter(dataset['Unemployment']), row=2, col=1)\n",
    "fig.add_trace(MyFunct.my_hist_plotter(dataset['Temperature']), row=2, col=2)\n",
    "\n",
    "# Update xaxis properties\n",
    "fig.update_xaxes(title_text=\"Weekly_Sales\", row=1, col=1)\n",
    "fig.update_xaxes(title_text=\"Consumer Price Index\", row=1, col=2)\n",
    "fig.update_xaxes(title_text=\"Fuel Price\", row=1, col=3)\n",
    "fig.update_xaxes(title_text=\"Unemployment Rate\", row=2, col=1)\n",
    "fig.update_xaxes(title_text=\"Temperature\", row=2, col=2)\n",
    "\n",
    "# Update yaxis properties\n",
    "fig.update_yaxes(title_text=\"Count\", row=1, col=1)\n",
    "fig.update_yaxes(title_text=\"Count\", row=2, col=1)\n",
    "\n",
    "fig.update_layout(\n",
    "    title= title, title_x = 0.5,\n",
    "    showlegend=False\n",
    ")\n",
    "\n",
    "fig.to_image(format=\"png\", engine=\"kaleido\")\n",
    "if os.path.exists(\"images/\"+title+\".png\"):\n",
    "    os.remove(\"images/\"+title+\".png\")\n",
    "    \n",
    "fig.write_image(\"images/\"+title+\".png\")\n",
    "fig.show() "
   ]
  },
  {
   "cell_type": "markdown",
   "metadata": {},
   "source": [
    "## Bivariate Analysis\n",
    "try to discover any correlation"
   ]
  },
  {
   "cell_type": "code",
   "execution_count": 20,
   "metadata": {},
   "outputs": [
    {
     "data": {
      "text/html": [
       "<iframe\n",
       "    scrolling=\"no\"\n",
       "    width=\"920px\"\n",
       "    height=\"920\"\n",
       "    src=\"iframe_figures/figure_20.html\"\n",
       "    frameborder=\"0\"\n",
       "    allowfullscreen\n",
       "></iframe>\n"
      ]
     },
     "metadata": {},
     "output_type": "display_data"
    }
   ],
   "source": [
    "title = 'Dataset Exploring by Store'\n",
    "\n",
    "sales_store = dataset.groupby(['Store']).agg({'Weekly_Sales':'mean'})\n",
    "flow_store = dataset.groupby(['Store']).agg({'Week':'count'})\n",
    "temp_store = dataset.groupby(['Store']).agg({'Temperature':'mean'})\n",
    "fuel_store = dataset.groupby(['Store']).agg({'Fuel_Price':'mean'})\n",
    "cpi_store = dataset.groupby(['Store']).agg({'CPI':'mean'})\n",
    "unemp_store = dataset.groupby(['Store']).agg({'Unemployment':'mean'})\n",
    "holiday_store = dataset.groupby(['Store']).agg({'Holiday_Flag':sum})\n",
    "\n",
    "\n",
    "fig = make_subplots(rows=4, cols=2)\n",
    "\n",
    "fig.add_trace(MyFunct.my_bar_plotter(sales_store.index, sales_store['Weekly_Sales'].values), row=1, col=1)\n",
    "fig.add_trace(MyFunct.my_bar_plotter(flow_store.index, flow_store['Week'].values), row=1, col=2)\n",
    "fig.add_trace(MyFunct.my_bar_plotter(temp_store.index, temp_store['Temperature'].values), row=2, col=1)\n",
    "fig.add_trace(MyFunct.my_bar_plotter(fuel_store.index, fuel_store['Fuel_Price'].values), row=2, col=2)\n",
    "fig.add_trace(MyFunct.my_bar_plotter(cpi_store.index, cpi_store['CPI'].values), row=3, col=1)\n",
    "fig.add_trace(MyFunct.my_bar_plotter(unemp_store.index, unemp_store['Unemployment'].values), row=3, col=2)\n",
    "fig.add_trace(MyFunct.my_bar_plotter(holiday_store.index, holiday_store['Holiday_Flag'].values), row=4, col=1)\n",
    "\n",
    "\n",
    "\n",
    "fig.update_xaxes(title_text=\"Store\", tick0 = 1, dtick=1, row=1, col=1)\n",
    "fig.update_yaxes(title_text=\"Mean Weekly Sales\", row=1, col=1)\n",
    "\n",
    "fig.update_xaxes(title_text=\"Store\", tick0 = 1, dtick=1, row=1, col=2)\n",
    "fig.update_yaxes(title_text=\"number of flows\", row=1, col=2)\n",
    "\n",
    "fig.update_xaxes(title_text=\"Store\", tick0 = 1, dtick=1, row=2, col=1)\n",
    "fig.update_yaxes(title_text=\"Mean Temperature\", row=2, col=1)\n",
    "\n",
    "fig.update_xaxes(title_text=\"Store\", tick0 = 1, dtick=1, row=2, col=2)\n",
    "fig.update_yaxes(title_text=\"Mean Fuel_Price\", row=2, col=2)\n",
    "\n",
    "fig.update_xaxes(title_text=\"Store\", tick0 = 1, dtick=1, row=3, col=1)\n",
    "fig.update_yaxes(title_text=\"Mean CPI\", row=3, col=1)\n",
    "\n",
    "fig.update_xaxes(title_text=\"Store\", tick0 = 1, dtick=1, row=3, col=2)\n",
    "fig.update_yaxes(title_text=\"Mean Unemployment\", row=3, col=2)\n",
    "\n",
    "fig.update_xaxes(title_text=\"Store\", tick0 = 1, dtick=1, row=4, col=1)\n",
    "fig.update_yaxes(title_text=\"Sum Holidays\", row=4, col=1)\n",
    "\n",
    "fig.update_layout(\n",
    "    title= title, title_x = 0.5,\n",
    "    showlegend=False,\n",
    "    autosize=False,\n",
    "    width=900,\n",
    "    height=900\n",
    ")\n",
    "\n",
    "fig.to_image(format=\"png\", engine=\"kaleido\")\n",
    "if os.path.exists(\"images/\"+title+\".png\"):\n",
    "    os.remove(\"images/\"+title+\".png\")\n",
    "    \n",
    "fig.write_image(\"images/\"+title+\".png\")\n",
    "\n",
    "fig.show()"
   ]
  },
  {
   "cell_type": "code",
   "execution_count": 21,
   "metadata": {},
   "outputs": [
    {
     "data": {
      "text/html": [
       "<iframe\n",
       "    scrolling=\"no\"\n",
       "    width=\"100%\"\n",
       "    height=\"545px\"\n",
       "    src=\"iframe_figures/figure_21.html\"\n",
       "    frameborder=\"0\"\n",
       "    allowfullscreen\n",
       "></iframe>\n"
      ]
     },
     "metadata": {},
     "output_type": "display_data"
    }
   ],
   "source": [
    "title = 'Distribution of Weekly Sales wrt different quantitative variables'\n",
    "\n",
    "# Initialize figure with subplots\n",
    "fig = make_subplots(\n",
    "    rows=2, cols=2,\n",
    ")\n",
    "\n",
    "# Add traces\n",
    "fig.add_trace(MyFunct.my_scatter_plotter(dataset['CPI'], dataset['Weekly_Sales']), row=1, col=1)\n",
    "fig.add_trace(MyFunct.my_scatter_plotter(dataset['Fuel_Price'], dataset['Weekly_Sales']), row=1, col=2)\n",
    "\n",
    "fig.add_trace(MyFunct.my_scatter_plotter(dataset['Unemployment'], dataset['Weekly_Sales']), row=2, col=1)\n",
    "fig.add_trace(MyFunct.my_scatter_plotter(dataset['Temperature'], dataset['Weekly_Sales']), row=2, col=2)\n",
    "\n",
    "# Update xaxis properties\n",
    "fig.update_xaxes(title_text=\"Consumer Price Index\", row=1, col=1)\n",
    "fig.update_xaxes(title_text=\"Fuel Price\", row=1, col=2)\n",
    "fig.update_xaxes(title_text=\"Unemployment Rate\", row=2, col=1)\n",
    "fig.update_xaxes(title_text=\"Temperature\", row=2, col=2)\n",
    "\n",
    "# Update yaxis properties\n",
    "fig.update_yaxes(title_text=\"Weekly Sales\", row=1, col=1)\n",
    "fig.update_yaxes(title_text=\"Weekly Sales\", row=2, col=1)\n",
    "\n",
    "# Update title \n",
    "fig.update_layout(\n",
    "    title= title, title_x = 0.5,\n",
    "    showlegend=False\n",
    ")\n",
    "\n",
    "# Export to a png image\n",
    "fig.to_image(format=\"png\", engine=\"kaleido\")\n",
    "if os.path.exists(\"images/\"+title+\".png\"):\n",
    "    os.remove(\"images/\"+title+\".png\")\n",
    "    \n",
    "fig.write_image(\"images/\"+title+\".png\")\n",
    "\n",
    "fig.show()"
   ]
  },
  {
   "cell_type": "code",
   "execution_count": 22,
   "metadata": {},
   "outputs": [
    {
     "data": {
      "text/html": [
       "<iframe\n",
       "    scrolling=\"no\"\n",
       "    width=\"920px\"\n",
       "    height=\"520\"\n",
       "    src=\"iframe_figures/figure_22.html\"\n",
       "    frameborder=\"0\"\n",
       "    allowfullscreen\n",
       "></iframe>\n"
      ]
     },
     "metadata": {},
     "output_type": "display_data"
    }
   ],
   "source": [
    "title = 'Weekly Sales per Year wrt Holiday_Flag'\n",
    "\n",
    "weekly_sales = dataset.groupby(['Year','Week']).agg({'Weekly_Sales': 'mean', 'Holiday_Flag':'max' })\n",
    "\n",
    "weekly_sales_10 = weekly_sales.loc[2010]\n",
    "weekly_sales_11 = weekly_sales.loc[2011]\n",
    "weekly_sales_12 = weekly_sales.loc[2012]\n",
    "\n",
    "x10 = weekly_sales_10['Weekly_Sales'].index\n",
    "y10 = weekly_sales_10['Weekly_Sales'].values\n",
    "\n",
    "x11 = weekly_sales_11['Weekly_Sales'].index\n",
    "y11 = weekly_sales_11['Weekly_Sales'].values\n",
    "\n",
    "x12 = weekly_sales_12['Weekly_Sales'].index\n",
    "y12 = weekly_sales_12['Weekly_Sales'].values\n",
    "\n",
    "fig = go.Figure()\n",
    "fig.add_trace(MyFunct.my_scatter_plotter_l(x10,y10,'2010', weekly_sales_10['Holiday_Flag']))\n",
    "fig.add_trace(MyFunct.my_scatter_plotter_l(x11,y11,'2011', weekly_sales_11['Holiday_Flag']))\n",
    "fig.add_trace(MyFunct.my_scatter_plotter_l(x12,y12,'2012', weekly_sales_12['Holiday_Flag']))\n",
    "\n",
    "fig.update_layout( \n",
    "    title=title, title_x = 0.5,\n",
    "    xaxis_title='Week',\n",
    "    yaxis_title='Weekly Sales',\n",
    "    autosize=False,\n",
    "    width=900,\n",
    "    height=500)\n",
    "\n",
    "fig.update_xaxes(tickvals= np.arange(1, 53, step=1))\n",
    "\n",
    "# Export to a png image\n",
    "fig.to_image(format=\"svg\", engine=\"kaleido\")\n",
    "\n",
    "if os.path.exists(\"images/\"+title+\".png\"):\n",
    "    os.remove(\"images/\"+title+\".png\")\n",
    "    \n",
    "fig.write_image(\"images/\"+title+\".png\")\n",
    "#fig.write_html(\"images/\"+title+\".html\")\n",
    "fig.show()"
   ]
  },
  {
   "cell_type": "code",
   "execution_count": 23,
   "metadata": {},
   "outputs": [
    {
     "data": {
      "text/html": [
       "<iframe\n",
       "    scrolling=\"no\"\n",
       "    width=\"100%\"\n",
       "    height=\"545px\"\n",
       "    src=\"iframe_figures/figure_23.html\"\n",
       "    frameborder=\"0\"\n",
       "    allowfullscreen\n",
       "></iframe>\n"
      ]
     },
     "metadata": {},
     "output_type": "display_data"
    }
   ],
   "source": [
    "title = 'Distribution of Weekly Sales wrt different categorical variables'\n",
    "# Initialize figure with subplots\n",
    "fig = make_subplots(\n",
    "    rows=2, cols=2,\n",
    ")\n",
    "\n",
    "# Add traces\n",
    "fig.add_trace(MyFunct.my_scatter_plotter(dataset['Year'], dataset['Weekly_Sales']), row=1, col=1)\n",
    "fig.add_trace(MyFunct.my_scatter_plotter(dataset['Store'], dataset['Weekly_Sales']), row=1, col=2)\n",
    "fig.add_trace(MyFunct.my_scatter_plotter(dataset['Holiday_Flag'], dataset['Weekly_Sales']), row=2, col=1)\n",
    "fig.add_trace(MyFunct.my_scatter_plotter(dataset['Week'], dataset['Weekly_Sales']), row=2, col=2)\n",
    "\n",
    "# Update xaxis properties\n",
    "fig.update_xaxes(title_text=\"Year\", dtick =1, row=1, col=1)\n",
    "fig.update_xaxes(title_text=\"Store\", dtick =1, row=1, col=2)\n",
    "fig.update_xaxes(title_text=\"Holiday_Flag\", tickmode = 'array', tickvals = [0, 1], ticktext = ['No', 'Yes'], row=2, col=1)\n",
    "fig.update_xaxes(title_text=\"Weekday\", tick0 = 0, dtick=2, row=2, col=2)\n",
    "\n",
    "\n",
    "# Update yaxis properties\n",
    "fig.update_yaxes(title_text=\"Weekly Sales\", row=1, col=1)\n",
    "fig.update_yaxes(title_text=\"Weekly Sales\", row=2, col=1)\n",
    "# Update title \n",
    "fig.update_layout(\n",
    "    title= title, title_x = 0.5,\n",
    "    showlegend=False\n",
    ")\n",
    "\n",
    "# Export to a png image\n",
    "fig.to_image(format=\"png\", engine=\"kaleido\")\n",
    "if os.path.exists(\"images/\"+title+\".png\"):\n",
    "    os.remove(\"images/\"+title+\".png\")\n",
    "    \n",
    "fig.write_image(\"images/\"+title+\".png\")\n",
    "\n",
    "fig.show()"
   ]
  },
  {
   "cell_type": "markdown",
   "metadata": {},
   "source": [
    "## Outliers"
   ]
  },
  {
   "cell_type": "code",
   "execution_count": 24,
   "metadata": {},
   "outputs": [
    {
     "data": {
      "text/html": [
       "<div>\n",
       "<style scoped>\n",
       "    .dataframe tbody tr th:only-of-type {\n",
       "        vertical-align: middle;\n",
       "    }\n",
       "\n",
       "    .dataframe tbody tr th {\n",
       "        vertical-align: top;\n",
       "    }\n",
       "\n",
       "    .dataframe thead th {\n",
       "        text-align: right;\n",
       "    }\n",
       "</style>\n",
       "<table border=\"1\" class=\"dataframe\">\n",
       "  <thead>\n",
       "    <tr style=\"text-align: right;\">\n",
       "      <th></th>\n",
       "      <th>Temperature</th>\n",
       "      <th>Fuel_Price</th>\n",
       "      <th>CPI</th>\n",
       "      <th>Unemployment</th>\n",
       "    </tr>\n",
       "  </thead>\n",
       "  <tbody>\n",
       "    <tr>\n",
       "      <th>count</th>\n",
       "      <td>132.000000</td>\n",
       "      <td>136.000000</td>\n",
       "      <td>138.000000</td>\n",
       "      <td>135.000000</td>\n",
       "    </tr>\n",
       "    <tr>\n",
       "      <th>mean</th>\n",
       "      <td>61.398106</td>\n",
       "      <td>3.320853</td>\n",
       "      <td>179.898509</td>\n",
       "      <td>7.598430</td>\n",
       "    </tr>\n",
       "    <tr>\n",
       "      <th>std</th>\n",
       "      <td>18.378901</td>\n",
       "      <td>0.478149</td>\n",
       "      <td>40.274956</td>\n",
       "      <td>1.577173</td>\n",
       "    </tr>\n",
       "    <tr>\n",
       "      <th>low_fence</th>\n",
       "      <td>6.261404</td>\n",
       "      <td>1.886406</td>\n",
       "      <td>59.073640</td>\n",
       "      <td>2.866912</td>\n",
       "    </tr>\n",
       "    <tr>\n",
       "      <th>high_fence</th>\n",
       "      <td>116.534808</td>\n",
       "      <td>4.755300</td>\n",
       "      <td>300.723378</td>\n",
       "      <td>12.329947</td>\n",
       "    </tr>\n",
       "    <tr>\n",
       "      <th>outliers</th>\n",
       "      <td>0.000000</td>\n",
       "      <td>0.000000</td>\n",
       "      <td>0.000000</td>\n",
       "      <td>5.000000</td>\n",
       "    </tr>\n",
       "    <tr>\n",
       "      <th>count_after_drop</th>\n",
       "      <td>132.000000</td>\n",
       "      <td>136.000000</td>\n",
       "      <td>138.000000</td>\n",
       "      <td>130.000000</td>\n",
       "    </tr>\n",
       "  </tbody>\n",
       "</table>\n",
       "</div>"
      ],
      "text/plain": [
       "                  Temperature  Fuel_Price         CPI  Unemployment\n",
       "count              132.000000  136.000000  138.000000    135.000000\n",
       "mean                61.398106    3.320853  179.898509      7.598430\n",
       "std                 18.378901    0.478149   40.274956      1.577173\n",
       "low_fence            6.261404    1.886406   59.073640      2.866912\n",
       "high_fence         116.534808    4.755300  300.723378     12.329947\n",
       "outliers             0.000000    0.000000    0.000000      5.000000\n",
       "count_after_drop   132.000000  136.000000  138.000000    130.000000"
      ]
     },
     "metadata": {},
     "output_type": "display_data"
    }
   ],
   "source": [
    "columns = ['Temperature', 'Fuel_Price', 'CPI' , 'Unemployment']\n",
    "MyFunct.outliers_count(dataset, columns)"
   ]
  },
  {
   "cell_type": "markdown",
   "metadata": {},
   "source": [
    "## Correlation"
   ]
  },
  {
   "cell_type": "code",
   "execution_count": 25,
   "metadata": {},
   "outputs": [],
   "source": [
    "title = 'Correlation degrees between different variables'\n",
    "MyFunct.my_heatmap(dataset, title)"
   ]
  },
  {
   "cell_type": "markdown",
   "metadata": {},
   "source": [
    "## SUMMARY "
   ]
  },
  {
   "cell_type": "markdown",
   "metadata": {},
   "source": [
    "🗒 Note 1: the target variable🎯 has missing values, hence we should drop the related rows  \n",
    "🗒 Note 2: drop outliers in the Unemployment rate data   \n",
    "❗ Investigate: Discontinuity in the CPI data ??  \n",
    "🗒 Note 5: year and fuel_price are highly correlated (0.81)  \n",
    "🗒 Note 6: Date, Day, Weekday are not relevant, we may drop them  \n",
    "🗒 Note 7: There is no much missing values but the distribution of data among different values of some variables (such as Holiday_flag) is highly skewed  \n",
    "❗ Investigate: The fact that the week is a holiday_week does not affect the sales (at least in the current dataset) because of the low number of observations"
   ]
  },
  {
   "cell_type": "code",
   "execution_count": 26,
   "metadata": {},
   "outputs": [
    {
     "data": {
      "text/html": [
       "<div>\n",
       "<style scoped>\n",
       "    .dataframe tbody tr th:only-of-type {\n",
       "        vertical-align: middle;\n",
       "    }\n",
       "\n",
       "    .dataframe tbody tr th {\n",
       "        vertical-align: top;\n",
       "    }\n",
       "\n",
       "    .dataframe thead th {\n",
       "        text-align: right;\n",
       "    }\n",
       "</style>\n",
       "<table border=\"1\" class=\"dataframe\">\n",
       "  <thead>\n",
       "    <tr style=\"text-align: right;\">\n",
       "      <th></th>\n",
       "      <th>status</th>\n",
       "    </tr>\n",
       "  </thead>\n",
       "  <tbody>\n",
       "    <tr>\n",
       "      <th>Store</th>\n",
       "      <td>selected</td>\n",
       "    </tr>\n",
       "    <tr>\n",
       "      <th>Date</th>\n",
       "      <td>not selected</td>\n",
       "    </tr>\n",
       "    <tr>\n",
       "      <th>Weekly_Sales</th>\n",
       "      <td>selected</td>\n",
       "    </tr>\n",
       "    <tr>\n",
       "      <th>Holiday_Flag</th>\n",
       "      <td>selected</td>\n",
       "    </tr>\n",
       "    <tr>\n",
       "      <th>Temperature</th>\n",
       "      <td>selected</td>\n",
       "    </tr>\n",
       "    <tr>\n",
       "      <th>Fuel_Price</th>\n",
       "      <td>selected</td>\n",
       "    </tr>\n",
       "    <tr>\n",
       "      <th>CPI</th>\n",
       "      <td>selected</td>\n",
       "    </tr>\n",
       "    <tr>\n",
       "      <th>Unemployment</th>\n",
       "      <td>selected</td>\n",
       "    </tr>\n",
       "    <tr>\n",
       "      <th>Year</th>\n",
       "      <td>maybe</td>\n",
       "    </tr>\n",
       "    <tr>\n",
       "      <th>Month</th>\n",
       "      <td>maybe</td>\n",
       "    </tr>\n",
       "    <tr>\n",
       "      <th>Week</th>\n",
       "      <td>selected</td>\n",
       "    </tr>\n",
       "    <tr>\n",
       "      <th>Day</th>\n",
       "      <td>later</td>\n",
       "    </tr>\n",
       "    <tr>\n",
       "      <th>Weekday</th>\n",
       "      <td>not selected</td>\n",
       "    </tr>\n",
       "  </tbody>\n",
       "</table>\n",
       "</div>"
      ],
      "text/plain": [
       "                    status\n",
       "Store             selected\n",
       "Date          not selected\n",
       "Weekly_Sales      selected\n",
       "Holiday_Flag      selected\n",
       "Temperature       selected\n",
       "Fuel_Price        selected\n",
       "CPI               selected\n",
       "Unemployment      selected\n",
       "Year                 maybe\n",
       "Month                maybe\n",
       "Week              selected\n",
       "Day                  later\n",
       "Weekday       not selected"
      ]
     },
     "execution_count": 26,
     "metadata": {},
     "output_type": "execute_result"
    }
   ],
   "source": [
    "selection_dict = {\n",
    "  'Store': Status.SELECTED,\n",
    "  'Date': Status.NOT_SELECTED,\n",
    "  'Weekly_Sales': Status.SELECTED,\n",
    "  'Holiday_Flag': Status.SELECTED,\n",
    "  'Temperature': Status.SELECTED,\n",
    "  'Fuel_Price': Status.SELECTED,\n",
    "  'CPI': Status.SELECTED,  \n",
    "  'Unemployment': Status.SELECTED,  \n",
    "  'Year': Status.MAYBE,  \n",
    "  'Month': Status.MAYBE,\n",
    "  'Week': Status.SELECTED,\n",
    "  'Day': Status.LATER,\n",
    "  'Weekday': Status.NOT_SELECTED,\n",
    "}\n",
    "selection_df = pd.DataFrame.from_dict({k: v.value for k, v in selection_dict.items()},\n",
    "                                      orient='index', columns=['status'])\n",
    "selection_df"
   ]
  },
  {
   "cell_type": "markdown",
   "metadata": {},
   "source": [
    "## Preprocessing "
   ]
  },
  {
   "cell_type": "code",
   "execution_count": 27,
   "metadata": {},
   "outputs": [],
   "source": [
    "# drop observations where Weekly_Sales is missing (150 - 14 --> 136)\n",
    "dataset = MyFunct.remove_missing(dataset, 'Weekly_Sales')\n",
    "\n",
    "# drop Unemployment outliers ( 136 - 5 ---> 131)\n",
    "dataset= MyFunct.remove_outlier(dataset, 'Unemployment')\n",
    "\n",
    "# drop columns ['Date', 'Day', 'Weekday', 'Month', 'Year']\n",
    "cols_drop = ['Date', 'Day', 'Weekday', 'Month', 'Year']\n",
    "dataset = dataset.drop(cols_drop, axis = 'columns')"
   ]
  },
  {
   "cell_type": "markdown",
   "metadata": {},
   "source": [
    "# Part 2 : Linear Regression Models"
   ]
  },
  {
   "cell_type": "markdown",
   "metadata": {},
   "source": [
    "## Data Preparing for modeling"
   ]
  },
  {
   "cell_type": "raw",
   "metadata": {},
   "source": [
    "The regression has five key assumptions:\n",
    "\n",
    "** Linear relationship X_Y  (scatter plots)\n",
    "\n",
    "** Multivariate normality  (histogram or a Q-Q-Plot, fit test, e.g., the Kolmogorov-Smirnov test)\n",
    "When the data is not normally distributed a non-linear transformation (e.g., log-transformation) might fix this issue.\n",
    "\n",
    "** No or little multicollinearity within X (Correlation matrix, Tolerance, Variance Inflation Factor (VIF))\n",
    "If multicollinearity is found in the data, centering the data (that is deducting the mean of the variable from each score) might help to solve the problem.  However, the simplest way to address the problem is to remove independent variables with high VIF values.\n",
    "\n",
    "** No auto-correlation (the residuals are not independent from each other) (scatterplot , Durbin-Watson test)\n",
    "\n",
    "** Homoscedasticity (scatterplot, Goldfeld-Quandt Test)\n",
    " If homoscedasticity is present, a non-linear correction might fix the problem."
   ]
  },
  {
   "cell_type": "code",
   "execution_count": 28,
   "metadata": {},
   "outputs": [],
   "source": [
    "# Define target variable (y) and explanatory variables (X)\n",
    "Y = dataset['Weekly_Sales']\n",
    "X = dataset.drop('Weekly_Sales', axis = 'columns')"
   ]
  },
  {
   "cell_type": "code",
   "execution_count": 29,
   "metadata": {},
   "outputs": [],
   "source": [
    "# Divide dataset (131 observations) Train (0.8 ~ 104) set & Test set (0.2 ~ 27)\n",
    "X_train, X_test, Y_train, Y_test = train_test_split(X, Y, test_size=0.2, random_state=0)\n",
    "\n",
    "# Convert pandas DataFrames to numpy arrays before using scikit-learn\n",
    "X_train = X_train.values\n",
    "X_test = X_test.values\n",
    "Y_train = Y_train.tolist()\n",
    "Y_test = Y_test.tolist()\n",
    "\n",
    "# Create pipeline for numeric features \n",
    "#Num_X =['Temperature', 'Fuel_Price', 'CPI', 'Unemployment', 'Week'] \n",
    "num_X = [2,3,4,5,6]\n",
    "numeric_transformer = Pipeline(steps=[\n",
    "    ('imputer', SimpleImputer(strategy='median')), \n",
    "    ('scaler', StandardScaler())\n",
    "])\n",
    "\n",
    "# Create pipeline for categorical features\n",
    "#cat_X = ['Store', 'Holiday_Flag']\n",
    "cat_X = [0,1]\n",
    "categorical_transformer = Pipeline(steps=[\n",
    "    ('imputer', SimpleImputer(strategy='most_frequent')),\n",
    "    ('encoder', OneHotEncoder(drop='first'))\n",
    "])\n",
    "\n",
    "# Use ColumnTranformer to make a preprocessor object \n",
    "preprocessor = ColumnTransformer(\n",
    "    transformers=[\n",
    "        ('num', numeric_transformer, num_X),\n",
    "        ('cat', categorical_transformer, cat_X)\n",
    "    ])\n",
    "\n",
    "# Preprocessings on train set (24 cols = 5 for numerci columns + 1 for holiday_flag + 18 for store, store 12 is deleted with the outliers)\n",
    "X_train = preprocessor.fit_transform(X_train)\n",
    "X_test  = preprocessor.transform(X_test)"
   ]
  },
  {
   "cell_type": "code",
   "execution_count": 30,
   "metadata": {},
   "outputs": [
    {
     "name": "stdout",
     "output_type": "stream",
     "text": [
      "categories: [array([ 1.,  2.,  3.,  4.,  5.,  6.,  7.,  8.,  9., 10., 11., 13., 14.,\n",
      "       15., 16., 17., 18., 19., 20.]), array([0., 1.])]\n",
      "features: ['x0_2.0' 'x0_3.0' 'x0_4.0' 'x0_5.0' 'x0_6.0' 'x0_7.0' 'x0_8.0' 'x0_9.0'\n",
      " 'x0_10.0' 'x0_11.0' 'x0_13.0' 'x0_14.0' 'x0_15.0' 'x0_16.0' 'x0_17.0'\n",
      " 'x0_18.0' 'x0_19.0' 'x0_20.0' 'x1_1.0']\n"
     ]
    }
   ],
   "source": [
    "# categories and features'names\n",
    "categories = preprocessor.transformers_[1][1].named_steps['encoder'].categories_\n",
    "print(f'categories: {categories}')\n",
    "features = preprocessor.transformers_[1][1].named_steps['encoder'].get_feature_names()\n",
    "print(f'features: {features}')"
   ]
  },
  {
   "cell_type": "markdown",
   "metadata": {},
   "source": [
    "## Dummy Regressor"
   ]
  },
  {
   "cell_type": "code",
   "execution_count": 31,
   "metadata": {},
   "outputs": [
    {
     "data": {
      "text/html": [
       "<div>\n",
       "<style scoped>\n",
       "    .dataframe tbody tr th:only-of-type {\n",
       "        vertical-align: middle;\n",
       "    }\n",
       "\n",
       "    .dataframe tbody tr th {\n",
       "        vertical-align: top;\n",
       "    }\n",
       "\n",
       "    .dataframe thead th {\n",
       "        text-align: right;\n",
       "    }\n",
       "</style>\n",
       "<table border=\"1\" class=\"dataframe\">\n",
       "  <thead>\n",
       "    <tr style=\"text-align: right;\">\n",
       "      <th></th>\n",
       "      <th></th>\n",
       "      <th>Dummy Regressor</th>\n",
       "    </tr>\n",
       "  </thead>\n",
       "  <tbody>\n",
       "    <tr>\n",
       "      <th rowspan=\"2\" valign=\"top\">RMSE</th>\n",
       "      <th>Train</th>\n",
       "      <td>659983.460351</td>\n",
       "    </tr>\n",
       "    <tr>\n",
       "      <th>Test</th>\n",
       "      <td>641738.369244</td>\n",
       "    </tr>\n",
       "    <tr>\n",
       "      <th rowspan=\"2\" valign=\"top\">R2</th>\n",
       "      <th>Train</th>\n",
       "      <td>0.000000</td>\n",
       "    </tr>\n",
       "    <tr>\n",
       "      <th>Test</th>\n",
       "      <td>-0.083984</td>\n",
       "    </tr>\n",
       "    <tr>\n",
       "      <th rowspan=\"2\" valign=\"top\">ADJ R2</th>\n",
       "      <th>Train</th>\n",
       "      <td>-0.303797</td>\n",
       "    </tr>\n",
       "    <tr>\n",
       "      <th>Test</th>\n",
       "      <td>-0.413295</td>\n",
       "    </tr>\n",
       "  </tbody>\n",
       "</table>\n",
       "</div>"
      ],
      "text/plain": [
       "              Dummy Regressor\n",
       "RMSE   Train    659983.460351\n",
       "       Test     641738.369244\n",
       "R2     Train         0.000000\n",
       "       Test         -0.083984\n",
       "ADJ R2 Train        -0.303797\n",
       "       Test         -0.413295"
      ]
     },
     "execution_count": 31,
     "metadata": {},
     "output_type": "execute_result"
    }
   ],
   "source": [
    "dummy_regressor = DummyRegressor(strategy = 'mean')\n",
    "dummy_regressor.fit(X_train, Y_train)\n",
    "\n",
    "y_train_pred, y_test_pred= dummy_regressor.predict(X_train), dummy_regressor.predict(X_test)\n",
    "mse_train, mse_test = mean_squared_error(Y_train,y_train_pred ), mean_squared_error(Y_test, y_test_pred)\n",
    "r2_train, r2_test = r2_score(Y_train,y_train_pred), r2_score(Y_test, y_test_pred)\n",
    "adjR2_train, adjR2_test = MyFunct.adjusted_r2(r2_train, X_train.shape[0], X_train.shape[1]), MyFunct.adjusted_r2(r2_test, X_train.shape[0], X_train.shape[1]) \n",
    "\n",
    "iterables = [[\"RMSE\", \"R2\", \"ADJ R2\"], [\"Train\", \"Test\"]]\n",
    "ind = pd.MultiIndex.from_product(iterables)\n",
    "\n",
    "metrics = pd.DataFrame(columns=['Dummy Regressor'], index = ind)\n",
    "metrics['Dummy Regressor'] = [np.sqrt(mse_train), np.sqrt(mse_test), r2_train, r2_test, adjR2_train, adjR2_test]\n",
    "metrics"
   ]
  },
  {
   "cell_type": "markdown",
   "metadata": {},
   "source": [
    "## Linear Regression "
   ]
  },
  {
   "cell_type": "code",
   "execution_count": 32,
   "metadata": {},
   "outputs": [
    {
     "data": {
      "text/html": [
       "<div>\n",
       "<style scoped>\n",
       "    .dataframe tbody tr th:only-of-type {\n",
       "        vertical-align: middle;\n",
       "    }\n",
       "\n",
       "    .dataframe tbody tr th {\n",
       "        vertical-align: top;\n",
       "    }\n",
       "\n",
       "    .dataframe thead th {\n",
       "        text-align: right;\n",
       "    }\n",
       "</style>\n",
       "<table border=\"1\" class=\"dataframe\">\n",
       "  <thead>\n",
       "    <tr style=\"text-align: right;\">\n",
       "      <th></th>\n",
       "      <th></th>\n",
       "      <th>Dummy Regressor</th>\n",
       "      <th>Linear Regressor</th>\n",
       "    </tr>\n",
       "  </thead>\n",
       "  <tbody>\n",
       "    <tr>\n",
       "      <th rowspan=\"2\" valign=\"top\">RMSE</th>\n",
       "      <th>Train</th>\n",
       "      <td>659983.460351</td>\n",
       "      <td>111941.985206</td>\n",
       "    </tr>\n",
       "    <tr>\n",
       "      <th>Test</th>\n",
       "      <td>641738.369244</td>\n",
       "      <td>160055.464015</td>\n",
       "    </tr>\n",
       "    <tr>\n",
       "      <th rowspan=\"2\" valign=\"top\">R2</th>\n",
       "      <th>Train</th>\n",
       "      <td>0.000000</td>\n",
       "      <td>0.971231</td>\n",
       "    </tr>\n",
       "    <tr>\n",
       "      <th>Test</th>\n",
       "      <td>-0.083984</td>\n",
       "      <td>0.932571</td>\n",
       "    </tr>\n",
       "    <tr>\n",
       "      <th rowspan=\"2\" valign=\"top\">ADJ R2</th>\n",
       "      <th>Train</th>\n",
       "      <td>-0.303797</td>\n",
       "      <td>0.962491</td>\n",
       "    </tr>\n",
       "    <tr>\n",
       "      <th>Test</th>\n",
       "      <td>-0.413295</td>\n",
       "      <td>0.912086</td>\n",
       "    </tr>\n",
       "  </tbody>\n",
       "</table>\n",
       "</div>"
      ],
      "text/plain": [
       "              Dummy Regressor  Linear Regressor\n",
       "RMSE   Train    659983.460351     111941.985206\n",
       "       Test     641738.369244     160055.464015\n",
       "R2     Train         0.000000          0.971231\n",
       "       Test         -0.083984          0.932571\n",
       "ADJ R2 Train        -0.303797          0.962491\n",
       "       Test         -0.413295          0.912086"
      ]
     },
     "execution_count": 32,
     "metadata": {},
     "output_type": "execute_result"
    }
   ],
   "source": [
    "linear_regressor = LinearRegression()\n",
    "linear_regressor.fit(X_train, Y_train)\n",
    "\n",
    "y_train_pred, y_test_pred= linear_regressor.predict(X_train), linear_regressor.predict(X_test)\n",
    "mse_train, mse_test = mean_squared_error(Y_train,y_train_pred ), mean_squared_error(Y_test, y_test_pred)\n",
    "r2_train, r2_test = r2_score(Y_train,y_train_pred), r2_score(Y_test, y_test_pred)\n",
    "adjR2_train, adjR2_test = MyFunct.adjusted_r2(r2_train, X_train.shape[0], X_train.shape[1]), MyFunct.adjusted_r2(r2_test, X_train.shape[0], X_train.shape[1]) \n",
    "\n",
    "# compute SS for the F_value computation\n",
    "SST1, SSR1, SSE1 = MyFunct.sum_squares(Y_train, y_train_pred)\n",
    "\n",
    "metrics['Linear Regressor'] = [np.sqrt(mse_train), np.sqrt(mse_test), r2_train, r2_test,adjR2_train, adjR2_test]\n",
    "metrics"
   ]
  },
  {
   "cell_type": "markdown",
   "metadata": {},
   "source": [
    "**Observation** The Dummy Regressor always predict the r2_ score as 0 since it is always predicting a constant (mean) without having an insight of the output. The Linear Regression Model seems to fit much better than the Dummy Regressor in terms of “mean squared error” and “r2_score”. "
   ]
  },
  {
   "cell_type": "markdown",
   "metadata": {},
   "source": [
    "## Ridge Regression "
   ]
  },
  {
   "cell_type": "code",
   "execution_count": 33,
   "metadata": {
    "colab": {
     "base_uri": "https://localhost:8080/",
     "height": 372
    },
    "colab_type": "code",
    "id": "5kjsUd-2AqMw",
    "outputId": "e63e3d25-f209-4987-bf5a-c2625303680e",
    "tags": [
     "outputPrepend"
    ]
   },
   "outputs": [
    {
     "data": {
      "text/plain": [
       "<AxesSubplot:xlabel='param_alpha'>"
      ]
     },
     "execution_count": 33,
     "metadata": {},
     "output_type": "execute_result"
    },
    {
     "data": {
      "image/png": "[encoded data removed]",
      "text/plain": [
       "<Figure size 432x288 with 1 Axes>"
      ]
     },
     "metadata": {
      "needs_background": "light"
     },
     "output_type": "display_data"
    }
   ],
   "source": [
    "ridge = Ridge() \n",
    "params = {'alpha': [1e-20,1e-15, 1e-10, 1e-8, 1e-4, 1e-3,1e-2, 1, 5, 10, 20, 50, 100, 500, 1000]} \n",
    "\n",
    "grid = GridSearchCV(ridge, params, cv = 3, verbose = 0, return_train_score = True)\n",
    "grid_fit = grid.fit(X_train, Y_train)\n",
    "\n",
    "grid_results = pd.DataFrame(grid_fit.cv_results_)\n",
    "\n",
    "grid_results.plot('param_alpha',y=['mean_test_score','mean_train_score'])"
   ]
  },
  {
   "cell_type": "markdown",
   "metadata": {},
   "source": [
    "**Observation** As alpha moves away from 0, the diference between R2(train) and R2(test) gets larger and at some level it becomes constant while the performance of the model gets worse.  \n",
    "Hence, the best alpha lies arround 0. "
   ]
  },
  {
   "cell_type": "code",
   "execution_count": 34,
   "metadata": {},
   "outputs": [
    {
     "name": "stdout",
     "output_type": "stream",
     "text": [
      " best estimator : Ridge(alpha=1e-10)\n"
     ]
    },
    {
     "data": {
      "text/html": [
       "<div>\n",
       "<style scoped>\n",
       "    .dataframe tbody tr th:only-of-type {\n",
       "        vertical-align: middle;\n",
       "    }\n",
       "\n",
       "    .dataframe tbody tr th {\n",
       "        vertical-align: top;\n",
       "    }\n",
       "\n",
       "    .dataframe thead th {\n",
       "        text-align: right;\n",
       "    }\n",
       "</style>\n",
       "<table border=\"1\" class=\"dataframe\">\n",
       "  <thead>\n",
       "    <tr style=\"text-align: right;\">\n",
       "      <th></th>\n",
       "      <th></th>\n",
       "      <th>Dummy Regressor</th>\n",
       "      <th>Linear Regressor</th>\n",
       "      <th>Ridge Regressor</th>\n",
       "    </tr>\n",
       "  </thead>\n",
       "  <tbody>\n",
       "    <tr>\n",
       "      <th rowspan=\"2\" valign=\"top\">RMSE</th>\n",
       "      <th>Train</th>\n",
       "      <td>659983.460351</td>\n",
       "      <td>111941.985206</td>\n",
       "      <td>111943.693307</td>\n",
       "    </tr>\n",
       "    <tr>\n",
       "      <th>Test</th>\n",
       "      <td>641738.369244</td>\n",
       "      <td>160055.464015</td>\n",
       "      <td>159813.397029</td>\n",
       "    </tr>\n",
       "    <tr>\n",
       "      <th rowspan=\"2\" valign=\"top\">R2</th>\n",
       "      <th>Train</th>\n",
       "      <td>0.000000</td>\n",
       "      <td>0.971231</td>\n",
       "      <td>0.971230</td>\n",
       "    </tr>\n",
       "    <tr>\n",
       "      <th>Test</th>\n",
       "      <td>-0.083984</td>\n",
       "      <td>0.932571</td>\n",
       "      <td>0.932775</td>\n",
       "    </tr>\n",
       "    <tr>\n",
       "      <th rowspan=\"2\" valign=\"top\">ADJ R2</th>\n",
       "      <th>Train</th>\n",
       "      <td>-0.303797</td>\n",
       "      <td>0.962491</td>\n",
       "      <td>0.962490</td>\n",
       "    </tr>\n",
       "    <tr>\n",
       "      <th>Test</th>\n",
       "      <td>-0.413295</td>\n",
       "      <td>0.912086</td>\n",
       "      <td>0.912352</td>\n",
       "    </tr>\n",
       "  </tbody>\n",
       "</table>\n",
       "</div>"
      ],
      "text/plain": [
       "              Dummy Regressor  Linear Regressor  Ridge Regressor\n",
       "RMSE   Train    659983.460351     111941.985206    111943.693307\n",
       "       Test     641738.369244     160055.464015    159813.397029\n",
       "R2     Train         0.000000          0.971231         0.971230\n",
       "       Test         -0.083984          0.932571         0.932775\n",
       "ADJ R2 Train        -0.303797          0.962491         0.962490\n",
       "       Test         -0.413295          0.912086         0.912352"
      ]
     },
     "execution_count": 34,
     "metadata": {},
     "output_type": "execute_result"
    }
   ],
   "source": [
    "best_ridge_estimator = grid_fit.best_estimator_\n",
    "print(f' best estimator : {best_ridge_estimator}')\n",
    "\n",
    "y_train_pred, y_test_pred= grid_fit.predict(X_train), grid_fit.predict(X_test)\n",
    "mse_train, mse_test = mean_squared_error(Y_train,y_train_pred ), mean_squared_error(Y_test, y_test_pred)\n",
    "r2_train, r2_test = r2_score(Y_train,y_train_pred), r2_score(Y_test, y_test_pred)\n",
    "adjR2_train, adjR2_test = MyFunct.adjusted_r2(r2_train, X_train.shape[0], X_train.shape[1]), MyFunct.adjusted_r2(r2_test, X_train.shape[0], X_train.shape[1]) \n",
    "\n",
    "metrics['Ridge Regressor'] = [np.sqrt(mse_train), np.sqrt(mse_test), r2_train, r2_test, adjR2_train, adjR2_test]\n",
    "metrics"
   ]
  },
  {
   "cell_type": "markdown",
   "metadata": {},
   "source": [
    "## Lasso Regression "
   ]
  },
  {
   "cell_type": "code",
   "execution_count": 35,
   "metadata": {
    "colab": {
     "base_uri": "https://localhost:8080/",
     "height": 372
    },
    "colab_type": "code",
    "id": "5kjsUd-2AqMw",
    "outputId": "e63e3d25-f209-4987-bf5a-c2625303680e",
    "tags": [
     "outputPrepend"
    ]
   },
   "outputs": [
    {
     "data": {
      "text/plain": [
       "<AxesSubplot:xlabel='param_alpha'>"
      ]
     },
     "execution_count": 35,
     "metadata": {},
     "output_type": "execute_result"
    },
    {
     "data": {
      "image/png": "[encoded data removed]",
      "text/plain": [
       "<Figure size 432x288 with 1 Axes>"
      ]
     },
     "metadata": {
      "needs_background": "light"
     },
     "output_type": "display_data"
    }
   ],
   "source": [
    "lasso = Lasso() \n",
    "params = {'alpha': [1e-20,1e-15, 1e-10, 1e-8, 1e-4, 1e-3,1e-2, 1, 5, 10, 20,50,100, 500, 1000]} \n",
    "\n",
    "grid = GridSearchCV(lasso, params, cv = 3, verbose = 0, return_train_score = True)\n",
    "grid_fit = grid.fit(X_train, Y_train)\n",
    "\n",
    "grid_results = pd.DataFrame(grid_fit.cv_results_)\n",
    "grid_results.plot('param_alpha',y=['mean_test_score','mean_train_score'])"
   ]
  },
  {
   "cell_type": "markdown",
   "metadata": {},
   "source": [
    "**Observation** with the lasso, we don't see any significant improvement in the scores.  \n",
    "It doesn't matter how alpha gets larger, the difference between R2(train) and R2(test) is approximately constant"
   ]
  },
  {
   "cell_type": "code",
   "execution_count": 36,
   "metadata": {},
   "outputs": [
    {
     "name": "stdout",
     "output_type": "stream",
     "text": [
      " best estimator : Lasso(alpha=20)\n"
     ]
    },
    {
     "data": {
      "text/html": [
       "<div>\n",
       "<style scoped>\n",
       "    .dataframe tbody tr th:only-of-type {\n",
       "        vertical-align: middle;\n",
       "    }\n",
       "\n",
       "    .dataframe tbody tr th {\n",
       "        vertical-align: top;\n",
       "    }\n",
       "\n",
       "    .dataframe thead th {\n",
       "        text-align: right;\n",
       "    }\n",
       "</style>\n",
       "<table border=\"1\" class=\"dataframe\">\n",
       "  <thead>\n",
       "    <tr style=\"text-align: right;\">\n",
       "      <th></th>\n",
       "      <th></th>\n",
       "      <th>Dummy Regressor</th>\n",
       "      <th>Linear Regressor</th>\n",
       "      <th>Ridge Regressor</th>\n",
       "      <th>Lasso Regressor</th>\n",
       "    </tr>\n",
       "  </thead>\n",
       "  <tbody>\n",
       "    <tr>\n",
       "      <th rowspan=\"2\" valign=\"top\">RMSE</th>\n",
       "      <th>Train</th>\n",
       "      <td>659983.460351</td>\n",
       "      <td>111941.985206</td>\n",
       "      <td>111943.693307</td>\n",
       "      <td>111943.751279</td>\n",
       "    </tr>\n",
       "    <tr>\n",
       "      <th>Test</th>\n",
       "      <td>641738.369244</td>\n",
       "      <td>160055.464015</td>\n",
       "      <td>159813.397029</td>\n",
       "      <td>159517.099819</td>\n",
       "    </tr>\n",
       "    <tr>\n",
       "      <th rowspan=\"2\" valign=\"top\">R2</th>\n",
       "      <th>Train</th>\n",
       "      <td>0.000000</td>\n",
       "      <td>0.971231</td>\n",
       "      <td>0.971230</td>\n",
       "      <td>0.971230</td>\n",
       "    </tr>\n",
       "    <tr>\n",
       "      <th>Test</th>\n",
       "      <td>-0.083984</td>\n",
       "      <td>0.932571</td>\n",
       "      <td>0.932775</td>\n",
       "      <td>0.933024</td>\n",
       "    </tr>\n",
       "    <tr>\n",
       "      <th rowspan=\"2\" valign=\"top\">ADJ R2</th>\n",
       "      <th>Train</th>\n",
       "      <td>-0.303797</td>\n",
       "      <td>0.962491</td>\n",
       "      <td>0.962490</td>\n",
       "      <td>0.962490</td>\n",
       "    </tr>\n",
       "    <tr>\n",
       "      <th>Test</th>\n",
       "      <td>-0.413295</td>\n",
       "      <td>0.912086</td>\n",
       "      <td>0.912352</td>\n",
       "      <td>0.912676</td>\n",
       "    </tr>\n",
       "  </tbody>\n",
       "</table>\n",
       "</div>"
      ],
      "text/plain": [
       "              Dummy Regressor  Linear Regressor  Ridge Regressor  \\\n",
       "RMSE   Train    659983.460351     111941.985206    111943.693307   \n",
       "       Test     641738.369244     160055.464015    159813.397029   \n",
       "R2     Train         0.000000          0.971231         0.971230   \n",
       "       Test         -0.083984          0.932571         0.932775   \n",
       "ADJ R2 Train        -0.303797          0.962491         0.962490   \n",
       "       Test         -0.413295          0.912086         0.912352   \n",
       "\n",
       "              Lasso Regressor  \n",
       "RMSE   Train    111943.751279  \n",
       "       Test     159517.099819  \n",
       "R2     Train         0.971230  \n",
       "       Test          0.933024  \n",
       "ADJ R2 Train         0.962490  \n",
       "       Test          0.912676  "
      ]
     },
     "execution_count": 36,
     "metadata": {},
     "output_type": "execute_result"
    }
   ],
   "source": [
    "best_lasso_estimator = grid_fit.best_estimator_\n",
    "print(f' best estimator : {best_lasso_estimator}')\n",
    "\n",
    "y_train_pred, y_test_pred= grid_fit.predict(X_train), grid_fit.predict(X_test)\n",
    "mse_train, mse_test = mean_squared_error(Y_train,y_train_pred ), mean_squared_error(Y_test, y_test_pred)\n",
    "r2_train, r2_test = r2_score(Y_train,y_train_pred), r2_score(Y_test, y_test_pred)\n",
    "adjR2_train, adjR2_test = MyFunct.adjusted_r2(r2_train, X_train.shape[0], X_train.shape[1]), MyFunct.adjusted_r2(r2_test, X_train.shape[0], X_train.shape[1]) \n",
    "\n",
    "metrics['Lasso Regressor'] = [np.sqrt(mse_train), np.sqrt(mse_test), r2_train, r2_test, adjR2_train, adjR2_test ]\n",
    "metrics"
   ]
  },
  {
   "cell_type": "code",
   "execution_count": 37,
   "metadata": {},
   "outputs": [
    {
     "data": {
      "text/plain": [
       "<AxesSubplot:xlabel='RMSE'>"
      ]
     },
     "execution_count": 37,
     "metadata": {},
     "output_type": "execute_result"
    },
    {
     "data": {
      "image/png": "[encoded data removed]",
      "text/plain": [
       "<Figure size 720x360 with 1 Axes>"
      ]
     },
     "metadata": {
      "needs_background": "light"
     },
     "output_type": "display_data"
    }
   ],
   "source": [
    "metrics.loc['RMSE'].plot(kind='bar', xlabel='RMSE', figsize=(10,5))"
   ]
  },
  {
   "cell_type": "code",
   "execution_count": 38,
   "metadata": {},
   "outputs": [
    {
     "data": {
      "text/plain": [
       "<AxesSubplot:xlabel='R2'>"
      ]
     },
     "execution_count": 38,
     "metadata": {},
     "output_type": "execute_result"
    },
    {
     "data": {
      "image/png": "[encoded data removed]",
      "text/plain": [
       "<Figure size 720x360 with 1 Axes>"
      ]
     },
     "metadata": {
      "needs_background": "light"
     },
     "output_type": "display_data"
    }
   ],
   "source": [
    "metrics.loc['R2'].plot(kind='bar', xlabel='R2', figsize=(10,5))"
   ]
  },
  {
   "cell_type": "markdown",
   "metadata": {},
   "source": [
    "**Conclusion** : there is no difference between the unregularized Linear regression model (alpha =0) and the regularized linear regression models"
   ]
  },
  {
   "cell_type": "markdown",
   "metadata": {},
   "source": [
    "## Features Coefficients"
   ]
  },
  {
   "cell_type": "code",
   "execution_count": 39,
   "metadata": {},
   "outputs": [
    {
     "data": {
      "text/html": [
       "<iframe\n",
       "    scrolling=\"no\"\n",
       "    width=\"100%\"\n",
       "    height=\"545px\"\n",
       "    src=\"iframe_figures/figure_39.html\"\n",
       "    frameborder=\"0\"\n",
       "    allowfullscreen\n",
       "></iframe>\n"
      ]
     },
     "metadata": {},
     "output_type": "display_data"
    }
   ],
   "source": [
    "coef = pd.DataFrame()\n",
    "coef['feature'] = ['Temperature', 'Fuel_Price', 'CPI', 'Unemployment', 'Week'] + ['Store_%d'%i for i in range(2,12)]+['Store_%d'%i for i in range(13,21)]+ ['Holiday_Flag']\n",
    "\n",
    "coef['coef_linear_regressor'] = linear_regressor.coef_\n",
    "coef['coef_linear_regressor'] = coef.coef_linear_regressor.abs()\n",
    "coef = coef.sort_values(by = 'coef_linear_regressor', ascending = True)\n",
    "\n",
    "px.bar(coef, x ='coef_linear_regressor', y = 'feature')"
   ]
  },
  {
   "cell_type": "markdown",
   "metadata": {},
   "source": [
    "# Feature Engineering (Not a big deal !!)"
   ]
  },
  {
   "cell_type": "code",
   "execution_count": 40,
   "metadata": {},
   "outputs": [],
   "source": [
    "flow_store = dataset.groupby(['Store']).agg({'Week':'count'})\n",
    "flow_store_df=pd.DataFrame(columns=['Store', 'flow'])\n",
    "flow_store_df['Store'] = flow_store.Week.index\n",
    "flow_store_df['flow'] = flow_store.Week.tolist()"
   ]
  },
  {
   "cell_type": "code",
   "execution_count": 41,
   "metadata": {},
   "outputs": [
    {
     "data": {
      "text/html": [
       "<div>\n",
       "<style scoped>\n",
       "    .dataframe tbody tr th:only-of-type {\n",
       "        vertical-align: middle;\n",
       "    }\n",
       "\n",
       "    .dataframe tbody tr th {\n",
       "        vertical-align: top;\n",
       "    }\n",
       "\n",
       "    .dataframe thead th {\n",
       "        text-align: right;\n",
       "    }\n",
       "</style>\n",
       "<table border=\"1\" class=\"dataframe\">\n",
       "  <thead>\n",
       "    <tr style=\"text-align: right;\">\n",
       "      <th></th>\n",
       "      <th>Store</th>\n",
       "      <th>Weekly_Sales</th>\n",
       "      <th>Holiday_Flag</th>\n",
       "      <th>Temperature</th>\n",
       "      <th>Fuel_Price</th>\n",
       "      <th>CPI</th>\n",
       "      <th>Unemployment</th>\n",
       "      <th>Week</th>\n",
       "      <th>flow</th>\n",
       "    </tr>\n",
       "  </thead>\n",
       "  <tbody>\n",
       "    <tr>\n",
       "      <th>0</th>\n",
       "      <td>6.0</td>\n",
       "      <td>1572117.54</td>\n",
       "      <td>NaN</td>\n",
       "      <td>59.61</td>\n",
       "      <td>3.045</td>\n",
       "      <td>214.777523</td>\n",
       "      <td>6.858</td>\n",
       "      <td>7.0</td>\n",
       "      <td>6</td>\n",
       "    </tr>\n",
       "    <tr>\n",
       "      <th>1</th>\n",
       "      <td>6.0</td>\n",
       "      <td>1644470.66</td>\n",
       "      <td>0.0</td>\n",
       "      <td>78.89</td>\n",
       "      <td>2.759</td>\n",
       "      <td>212.412888</td>\n",
       "      <td>7.092</td>\n",
       "      <td>21.0</td>\n",
       "      <td>6</td>\n",
       "    </tr>\n",
       "    <tr>\n",
       "      <th>2</th>\n",
       "      <td>6.0</td>\n",
       "      <td>1498080.16</td>\n",
       "      <td>NaN</td>\n",
       "      <td>68.91</td>\n",
       "      <td>2.780</td>\n",
       "      <td>211.894272</td>\n",
       "      <td>7.092</td>\n",
       "      <td>17.0</td>\n",
       "      <td>6</td>\n",
       "    </tr>\n",
       "    <tr>\n",
       "      <th>3</th>\n",
       "      <td>6.0</td>\n",
       "      <td>1420405.41</td>\n",
       "      <td>0.0</td>\n",
       "      <td>NaN</td>\n",
       "      <td>3.523</td>\n",
       "      <td>217.270654</td>\n",
       "      <td>6.925</td>\n",
       "      <td>34.0</td>\n",
       "      <td>6</td>\n",
       "    </tr>\n",
       "    <tr>\n",
       "      <th>4</th>\n",
       "      <td>6.0</td>\n",
       "      <td>1532308.78</td>\n",
       "      <td>0.0</td>\n",
       "      <td>NaN</td>\n",
       "      <td>2.640</td>\n",
       "      <td>212.894485</td>\n",
       "      <td>6.973</td>\n",
       "      <td>30.0</td>\n",
       "      <td>6</td>\n",
       "    </tr>\n",
       "    <tr>\n",
       "      <th>...</th>\n",
       "      <td>...</td>\n",
       "      <td>...</td>\n",
       "      <td>...</td>\n",
       "      <td>...</td>\n",
       "      <td>...</td>\n",
       "      <td>...</td>\n",
       "      <td>...</td>\n",
       "      <td>...</td>\n",
       "      <td>...</td>\n",
       "    </tr>\n",
       "    <tr>\n",
       "      <th>126</th>\n",
       "      <td>10.0</td>\n",
       "      <td>1805999.79</td>\n",
       "      <td>0.0</td>\n",
       "      <td>86.87</td>\n",
       "      <td>3.666</td>\n",
       "      <td>130.719633</td>\n",
       "      <td>7.170</td>\n",
       "      <td>27.0</td>\n",
       "      <td>3</td>\n",
       "    </tr>\n",
       "    <tr>\n",
       "      <th>127</th>\n",
       "      <td>10.0</td>\n",
       "      <td>1990371.02</td>\n",
       "      <td>0.0</td>\n",
       "      <td>57.62</td>\n",
       "      <td>3.882</td>\n",
       "      <td>130.645793</td>\n",
       "      <td>7.545</td>\n",
       "      <td>9.0</td>\n",
       "      <td>3</td>\n",
       "    </tr>\n",
       "    <tr>\n",
       "      <th>128</th>\n",
       "      <td>10.0</td>\n",
       "      <td>1714309.90</td>\n",
       "      <td>NaN</td>\n",
       "      <td>43.43</td>\n",
       "      <td>3.287</td>\n",
       "      <td>127.191774</td>\n",
       "      <td>8.744</td>\n",
       "      <td>NaN</td>\n",
       "      <td>3</td>\n",
       "    </tr>\n",
       "    <tr>\n",
       "      <th>129</th>\n",
       "      <td>10.0</td>\n",
       "      <td>1768172.31</td>\n",
       "      <td>0.0</td>\n",
       "      <td>90.32</td>\n",
       "      <td>NaN</td>\n",
       "      <td>126.126600</td>\n",
       "      <td>9.524</td>\n",
       "      <td>25.0</td>\n",
       "      <td>3</td>\n",
       "    </tr>\n",
       "    <tr>\n",
       "      <th>130</th>\n",
       "      <td>10.0</td>\n",
       "      <td>1831676.03</td>\n",
       "      <td>0.0</td>\n",
       "      <td>88.44</td>\n",
       "      <td>3.112</td>\n",
       "      <td>126.128355</td>\n",
       "      <td>9.199</td>\n",
       "      <td>NaN</td>\n",
       "      <td>3</td>\n",
       "    </tr>\n",
       "  </tbody>\n",
       "</table>\n",
       "<p>131 rows × 9 columns</p>\n",
       "</div>"
      ],
      "text/plain": [
       "     Store  Weekly_Sales  Holiday_Flag  Temperature  Fuel_Price         CPI  \\\n",
       "0      6.0    1572117.54           NaN        59.61       3.045  214.777523   \n",
       "1      6.0    1644470.66           0.0        78.89       2.759  212.412888   \n",
       "2      6.0    1498080.16           NaN        68.91       2.780  211.894272   \n",
       "3      6.0    1420405.41           0.0          NaN       3.523  217.270654   \n",
       "4      6.0    1532308.78           0.0          NaN       2.640  212.894485   \n",
       "..     ...           ...           ...          ...         ...         ...   \n",
       "126   10.0    1805999.79           0.0        86.87       3.666  130.719633   \n",
       "127   10.0    1990371.02           0.0        57.62       3.882  130.645793   \n",
       "128   10.0    1714309.90           NaN        43.43       3.287  127.191774   \n",
       "129   10.0    1768172.31           0.0        90.32         NaN  126.126600   \n",
       "130   10.0    1831676.03           0.0        88.44       3.112  126.128355   \n",
       "\n",
       "     Unemployment  Week  flow  \n",
       "0           6.858   7.0     6  \n",
       "1           7.092  21.0     6  \n",
       "2           7.092  17.0     6  \n",
       "3           6.925  34.0     6  \n",
       "4           6.973  30.0     6  \n",
       "..            ...   ...   ...  \n",
       "126         7.170  27.0     3  \n",
       "127         7.545   9.0     3  \n",
       "128         8.744   NaN     3  \n",
       "129         9.524  25.0     3  \n",
       "130         9.199   NaN     3  \n",
       "\n",
       "[131 rows x 9 columns]"
      ]
     },
     "execution_count": 41,
     "metadata": {},
     "output_type": "execute_result"
    }
   ],
   "source": [
    "dataset = pd.merge(dataset, flow_store_df, on='Store')\n",
    "dataset"
   ]
  },
  {
   "cell_type": "code",
   "execution_count": 42,
   "metadata": {},
   "outputs": [
    {
     "data": {
      "text/plain": [
       "<AxesSubplot:xlabel='Weekly_Sales', ylabel='Density'>"
      ]
     },
     "execution_count": 42,
     "metadata": {},
     "output_type": "execute_result"
    },
    {
     "data": {
      "image/png": "[encoded data removed]",
      "text/plain": [
       "<Figure size 432x288 with 1 Axes>"
      ]
     },
     "metadata": {
      "needs_background": "light"
     },
     "output_type": "display_data"
    }
   ],
   "source": [
    "sns.distplot(dataset['Weekly_Sales'])"
   ]
  },
  {
   "cell_type": "code",
   "execution_count": 43,
   "metadata": {},
   "outputs": [],
   "source": [
    "# change the scale using the log function so the distribution becomes evenly distributed.\n",
    "dataset['Weekly_Sales'] = np.log10(dataset['Weekly_Sales'] )"
   ]
  },
  {
   "cell_type": "code",
   "execution_count": 44,
   "metadata": {},
   "outputs": [
    {
     "data": {
      "text/plain": [
       "<AxesSubplot:xlabel='Weekly_Sales', ylabel='Density'>"
      ]
     },
     "execution_count": 44,
     "metadata": {},
     "output_type": "execute_result"
    },
    {
     "data": {
      "image/png": "[encoded data removed]",
      "text/plain": [
       "<Figure size 432x288 with 1 Axes>"
      ]
     },
     "metadata": {
      "needs_background": "light"
     },
     "output_type": "display_data"
    }
   ],
   "source": [
    "sns.distplot(dataset['Weekly_Sales'])"
   ]
  },
  {
   "cell_type": "code",
   "execution_count": 45,
   "metadata": {},
   "outputs": [],
   "source": [
    "# Define target variable (y) and explanatory variables (X)\n",
    "Y = dataset['Weekly_Sales']\n",
    "X = dataset.drop('Weekly_Sales', axis = 'columns')\n",
    "\n",
    "# Divide dataset (131 observations) Train (0.8 ~ 104) set & Test set (0.2 ~ 27)\n",
    "X_train, X_test, Y_train, Y_test = train_test_split(X, Y, test_size=0.2, random_state=0)\n",
    "\n",
    "# Convert pandas DataFrames to numpy arrays before using scikit-learn\n",
    "X_train = X_train.values\n",
    "X_test = X_test.values\n",
    "Y_train = Y_train.tolist()\n",
    "Y_test = Y_test.tolist()\n",
    "\n",
    "# Create pipeline for numeric features \n",
    "#Num_X =['Temperature', 'Fuel_Price', 'CPI', 'Unemployment', 'Week', 'flow'] \n",
    "num_X = [2,3,4,5,6,7]\n",
    "numeric_transformer = Pipeline(steps=[\n",
    "    ('imputer', SimpleImputer(strategy='median')), \n",
    "    ('scaler', StandardScaler())\n",
    "])\n",
    "\n",
    "# Create pipeline for categorical features\n",
    "#cat_X = ['Store', 'Holiday_Flag']\n",
    "cat_X = [0,1]\n",
    "categorical_transformer = Pipeline(steps=[\n",
    "    ('imputer', SimpleImputer(strategy='most_frequent')),\n",
    "    ('encoder', OneHotEncoder(drop='first'))\n",
    "])\n",
    "\n",
    "# Use ColumnTranformer to make a preprocessor object \n",
    "preprocessor = ColumnTransformer(\n",
    "    transformers=[\n",
    "        ('num', numeric_transformer, num_X),\n",
    "        ('cat', categorical_transformer, cat_X)\n",
    "    ])\n",
    "\n",
    "# Preprocessings on train set (24 cols = 5 for numerci columns + 1 for holiday_flag + 18 for store, store 12 is deleted with the outliers)\n",
    "X_train = preprocessor.fit_transform(X_train)\n",
    "X_test  = preprocessor.transform(X_test)"
   ]
  },
  {
   "cell_type": "markdown",
   "metadata": {},
   "source": [
    "## Linear Regression (Model 2 with the new variable 'flow' and pre_scaled 'Weekly_Sales')"
   ]
  },
  {
   "cell_type": "code",
   "execution_count": 46,
   "metadata": {},
   "outputs": [
    {
     "data": {
      "text/html": [
       "<div>\n",
       "<style scoped>\n",
       "    .dataframe tbody tr th:only-of-type {\n",
       "        vertical-align: middle;\n",
       "    }\n",
       "\n",
       "    .dataframe tbody tr th {\n",
       "        vertical-align: top;\n",
       "    }\n",
       "\n",
       "    .dataframe thead th {\n",
       "        text-align: right;\n",
       "    }\n",
       "</style>\n",
       "<table border=\"1\" class=\"dataframe\">\n",
       "  <thead>\n",
       "    <tr style=\"text-align: right;\">\n",
       "      <th></th>\n",
       "      <th></th>\n",
       "      <th>Dummy Regressor</th>\n",
       "      <th>Linear Regressor</th>\n",
       "      <th>Ridge Regressor</th>\n",
       "      <th>Lasso Regressor</th>\n",
       "      <th>Linear Regressor 2</th>\n",
       "    </tr>\n",
       "  </thead>\n",
       "  <tbody>\n",
       "    <tr>\n",
       "      <th rowspan=\"2\" valign=\"top\">RMSE</th>\n",
       "      <th>Train</th>\n",
       "      <td>659983.460351</td>\n",
       "      <td>111941.985206</td>\n",
       "      <td>111943.693307</td>\n",
       "      <td>111943.751279</td>\n",
       "      <td>0.032349</td>\n",
       "    </tr>\n",
       "    <tr>\n",
       "      <th>Test</th>\n",
       "      <td>641738.369244</td>\n",
       "      <td>160055.464015</td>\n",
       "      <td>159813.397029</td>\n",
       "      <td>159517.099819</td>\n",
       "      <td>0.048325</td>\n",
       "    </tr>\n",
       "    <tr>\n",
       "      <th rowspan=\"2\" valign=\"top\">R2</th>\n",
       "      <th>Train</th>\n",
       "      <td>0.000000</td>\n",
       "      <td>0.971231</td>\n",
       "      <td>0.971230</td>\n",
       "      <td>0.971230</td>\n",
       "      <td>0.985914</td>\n",
       "    </tr>\n",
       "    <tr>\n",
       "      <th>Test</th>\n",
       "      <td>-0.083984</td>\n",
       "      <td>0.932571</td>\n",
       "      <td>0.932775</td>\n",
       "      <td>0.933024</td>\n",
       "      <td>0.974315</td>\n",
       "    </tr>\n",
       "    <tr>\n",
       "      <th rowspan=\"2\" valign=\"top\">ADJ R2</th>\n",
       "      <th>Train</th>\n",
       "      <td>-0.303797</td>\n",
       "      <td>0.962491</td>\n",
       "      <td>0.962490</td>\n",
       "      <td>0.962490</td>\n",
       "      <td>0.981399</td>\n",
       "    </tr>\n",
       "    <tr>\n",
       "      <th>Test</th>\n",
       "      <td>-0.413295</td>\n",
       "      <td>0.912086</td>\n",
       "      <td>0.912352</td>\n",
       "      <td>0.912676</td>\n",
       "      <td>0.966083</td>\n",
       "    </tr>\n",
       "  </tbody>\n",
       "</table>\n",
       "</div>"
      ],
      "text/plain": [
       "              Dummy Regressor  Linear Regressor  Ridge Regressor  \\\n",
       "RMSE   Train    659983.460351     111941.985206    111943.693307   \n",
       "       Test     641738.369244     160055.464015    159813.397029   \n",
       "R2     Train         0.000000          0.971231         0.971230   \n",
       "       Test         -0.083984          0.932571         0.932775   \n",
       "ADJ R2 Train        -0.303797          0.962491         0.962490   \n",
       "       Test         -0.413295          0.912086         0.912352   \n",
       "\n",
       "              Lasso Regressor  Linear Regressor 2  \n",
       "RMSE   Train    111943.751279            0.032349  \n",
       "       Test     159517.099819            0.048325  \n",
       "R2     Train         0.971230            0.985914  \n",
       "       Test          0.933024            0.974315  \n",
       "ADJ R2 Train         0.962490            0.981399  \n",
       "       Test          0.912676            0.966083  "
      ]
     },
     "execution_count": 46,
     "metadata": {},
     "output_type": "execute_result"
    }
   ],
   "source": [
    "linear_regressor = LinearRegression()\n",
    "linear_regressor.fit(X_train, Y_train)\n",
    "\n",
    "y_train_pred, y_test_pred= linear_regressor.predict(X_train), linear_regressor.predict(X_test)\n",
    "mse_train, mse_test = mean_squared_error(Y_train,y_train_pred ), mean_squared_error(Y_test, y_test_pred)\n",
    "r2_train, r2_test = r2_score(Y_train,y_train_pred), r2_score(Y_test, y_test_pred)\n",
    "adjR2_train, adjR2_test = MyFunct.adjusted_r2(r2_train, X_train.shape[0], X_train.shape[1]), MyFunct.adjusted_r2(r2_test, X_train.shape[0], X_train.shape[1]) \n",
    "\n",
    "#compute SS for F_value Computation\n",
    "SST2, SSR2, SSE2 = MyFunct.sum_squares(Y_train, y_train_pred)\n",
    "\n",
    "metrics['Linear Regressor 2'] = [np.sqrt(mse_train), np.sqrt(mse_test), r2_train, r2_test, adjR2_train, adjR2_test]\n",
    "metrics"
   ]
  },
  {
   "cell_type": "markdown",
   "metadata": {},
   "source": [
    "As we can see, the second linear model performs better than the first linear model.  \n",
    "Even the gap between train and test scores is decreased"
   ]
  },
  {
   "cell_type": "markdown",
   "metadata": {},
   "source": [
    "# Notes for Further Investigation"
   ]
  },
  {
   "cell_type": "raw",
   "metadata": {},
   "source": [
    "********************   Information to get from the variables 'Holiday_Flag' and 'Date' **********************\n",
    "\n",
    "the four largest holidays in the US are: \n",
    "Super Bowl (first Sunday of February / second Sunday of February after changes to the format and schedule in 2021), \n",
    "Labor Day  (first Monday in September), \n",
    "Thanksgiving (fourth Thursday of November), and \n",
    "Christmas (25 december).   \n",
    "\n",
    "The four holidays fall within the following dates in the dataset:\n",
    "\n",
    "Super Bowl (holiday + 5): 12-02-2010, 10-02-2012,\n",
    "Labor Day (holiday + 4) : 10-09-2010, 07-09-2012, \n",
    "Thanksgiving(holiday + 1) : 26-11-2010,\n",
    "Christmas (next Friday): 31-12-2010, 30-12-2011\n",
    "\n",
    "We can use the 'Holiday_flag' and 'Date' variables to decide if the week of the reported 'Weekly_Sales' is a before_holiday week, holiday week or after_holiday week\n",
    "\n",
    "****************************** for a bigger Data Set *************************************\n",
    "https://www.kaggle.com/bletchley/course-material-walmart-challenge"
   ]
  }
 ],
 "metadata": {
  "kernelspec": {
   "display_name": "Python 3",
   "language": "python",
   "name": "python3"
  },
  "language_info": {
   "codemirror_mode": {
    "name": "ipython",
    "version": 3
   },
   "file_extension": ".py",
   "mimetype": "text/x-python",
   "name": "python",
   "nbconvert_exporter": "python",
   "pygments_lexer": "ipython3",
   "version": "3.8.6"
  }
 },
 "nbformat": 4,
 "nbformat_minor": 4
}
